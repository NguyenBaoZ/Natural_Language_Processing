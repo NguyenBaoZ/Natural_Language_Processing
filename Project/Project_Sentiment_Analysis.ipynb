{
 "cells": [
  {
   "attachments": {},
   "cell_type": "markdown",
   "metadata": {
    "id": "WGv2X4rTbo-U"
   },
   "source": [
    "# Project: Sentiment Analysis of Bank Customer Reviews using CNN, LSTM, Combined CNN and LSTM, BERT-based approach\n",
    "\n",
    "## Dataset\n",
    "The dataset utilized in this research comprises over 10,000 customer reviews sourced from 48 distinct banking institu- tions within the United States. This publicly available dataset can be accessed through the Kaggle community platform, offering a comprehensive collection of customer sentiments towards various banks. The dataset's primary objective is to serve as a resource for training and evaluating the sentiment analysis system proposed in this research. For easy accessibility, the dataset can be downloaded using the following link: https://www.kaggle.com/datasets/trainingdatapro/20000-customers-reviews-on-banks/data. The richness of this dataset not only allows for a detailed exploration of customer feedback but also ensures a diverse and representative sample, crucial for the effectiveness and generalizability of the sentiment analysis model.\n"
   ]
  },
  {
   "cell_type": "code",
   "execution_count": null,
   "metadata": {
    "colab": {
     "base_uri": "https://localhost:8080/"
    },
    "executionInfo": {
     "elapsed": 12376,
     "status": "ok",
     "timestamp": 1701409888919,
     "user": {
      "displayName": "Thanapoom Phatthanaphan",
      "userId": "06703220080806313983"
     },
     "user_tz": 300
    },
    "id": "CXQ6VWK920jB",
    "outputId": "fd7216d8-9e6c-4a9e-f495-7cf06bf2b6bf"
   },
   "outputs": [
    {
     "name": "stderr",
     "output_type": "stream",
     "text": [
      "[nltk_data] Downloading package punkt to E:/Code/BKU/HK3/NLP...\n",
      "[nltk_data]   Package punkt is already up-to-date!\n",
      "[nltk_data] Downloading package stopwords to E:/Code/BKU/HK3/NLP...\n",
      "[nltk_data]   Package stopwords is already up-to-date!\n"
     ]
    },
    {
     "name": "stdout",
     "output_type": "stream",
     "text": [
      "Requirement already satisfied: transformers in c:\\users\\admin\\appdata\\local\\programs\\python\\python311\\lib\\site-packages (4.36.0)\n",
      "Requirement already satisfied: filelock in c:\\users\\admin\\appdata\\local\\programs\\python\\python311\\lib\\site-packages (from transformers) (3.16.1)\n",
      "Requirement already satisfied: huggingface-hub<1.0,>=0.19.3 in c:\\users\\admin\\appdata\\local\\programs\\python\\python311\\lib\\site-packages (from transformers) (0.26.5)\n",
      "Requirement already satisfied: numpy>=1.17 in c:\\users\\admin\\appdata\\local\\programs\\python\\python311\\lib\\site-packages (from transformers) (1.26.4)\n",
      "Requirement already satisfied: packaging>=20.0 in c:\\users\\admin\\appdata\\local\\programs\\python\\python311\\lib\\site-packages (from transformers) (24.2)\n",
      "Requirement already satisfied: pyyaml>=5.1 in c:\\users\\admin\\appdata\\local\\programs\\python\\python311\\lib\\site-packages (from transformers) (6.0.2)\n",
      "Requirement already satisfied: regex!=2019.12.17 in c:\\users\\admin\\appdata\\local\\programs\\python\\python311\\lib\\site-packages (from transformers) (2024.11.6)\n",
      "Requirement already satisfied: requests in c:\\users\\admin\\appdata\\local\\programs\\python\\python311\\lib\\site-packages (from transformers) (2.32.3)\n",
      "Requirement already satisfied: tokenizers<0.19,>=0.14 in c:\\users\\admin\\appdata\\local\\programs\\python\\python311\\lib\\site-packages (from transformers) (0.15.2)\n",
      "Requirement already satisfied: safetensors>=0.3.1 in c:\\users\\admin\\appdata\\local\\programs\\python\\python311\\lib\\site-packages (from transformers) (0.4.5)\n",
      "Requirement already satisfied: tqdm>=4.27 in c:\\users\\admin\\appdata\\local\\programs\\python\\python311\\lib\\site-packages (from transformers) (4.67.1)\n",
      "Requirement already satisfied: fsspec>=2023.5.0 in c:\\users\\admin\\appdata\\local\\programs\\python\\python311\\lib\\site-packages (from huggingface-hub<1.0,>=0.19.3->transformers) (2024.9.0)\n",
      "Requirement already satisfied: typing-extensions>=3.7.4.3 in c:\\users\\admin\\appdata\\local\\programs\\python\\python311\\lib\\site-packages (from huggingface-hub<1.0,>=0.19.3->transformers) (4.12.2)\n",
      "Requirement already satisfied: colorama in c:\\users\\admin\\appdata\\local\\programs\\python\\python311\\lib\\site-packages (from tqdm>=4.27->transformers) (0.4.6)\n",
      "Requirement already satisfied: charset-normalizer<4,>=2 in c:\\users\\admin\\appdata\\local\\programs\\python\\python311\\lib\\site-packages (from requests->transformers) (3.4.0)\n",
      "Requirement already satisfied: idna<4,>=2.5 in c:\\users\\admin\\appdata\\local\\programs\\python\\python311\\lib\\site-packages (from requests->transformers) (3.10)\n",
      "Requirement already satisfied: urllib3<3,>=1.21.1 in c:\\users\\admin\\appdata\\local\\programs\\python\\python311\\lib\\site-packages (from requests->transformers) (2.2.3)\n",
      "Requirement already satisfied: certifi>=2017.4.17 in c:\\users\\admin\\appdata\\local\\programs\\python\\python311\\lib\\site-packages (from requests->transformers) (2024.8.30)\n"
     ]
    }
   ],
   "source": [
    "# Import the necessary libraries for performing data analysis\n",
    "import numpy as np\n",
    "import pandas as pd\n",
    "import matplotlib.pyplot as plt\n",
    "\n",
    "try:\n",
    "    import nltk\n",
    "    nltk.download('punkt', download_dir='E:/Code/BKU/HK3/NLP')\n",
    "    nltk.download('stopwords', download_dir='E:/Code/BKU/HK3/NLP')\n",
    "    from nltk.tokenize import word_tokenize\n",
    "    from nltk.corpus import stopwords\n",
    "except Exception as e:\n",
    "    print(f\"Error: {e}\")\n",
    "\n",
    "import os\n",
    "os.environ['NLTK_DATA'] = 'E:/Code/BKU/HK3/NLP'\n",
    "\n",
    "import re\n",
    "\n",
    "!pip install transformers\n",
    "\n",
    "import torch\n",
    "import torch.nn.functional as F\n",
    "from transformers import BertTokenizer, BertForSequenceClassification, AdamW\n",
    "from torch.utils.data import DataLoader, TensorDataset\n",
    "from sklearn.model_selection import train_test_split\n",
    "import time\n",
    "from prettytable import PrettyTable\n",
    "\n",
    "from sklearn.metrics import roc_curve, roc_auc_score, accuracy_score"
   ]
  },
  {
   "cell_type": "markdown",
   "metadata": {
    "id": "d20VJjpS22lA"
   },
   "source": [
    "## 1. Importing the dataset\n",
    "Import the dataset of customer reviews from 48 distinct banks across the United States."
   ]
  },
  {
   "cell_type": "code",
   "execution_count": null,
   "metadata": {
    "colab": {
     "base_uri": "https://localhost:8080/",
     "height": 424
    },
    "executionInfo": {
     "elapsed": 9,
     "status": "ok",
     "timestamp": 1701409890062,
     "user": {
      "displayName": "Thanapoom Phatthanaphan",
      "userId": "06703220080806313983"
     },
     "user_tz": 300
    },
    "id": "IG5_lwhd3J6A",
    "outputId": "976d113c-c122-4e42-ba3b-d2f10dc021c2"
   },
   "outputs": [
    {
     "data": {
      "text/html": [
       "<div>\n",
       "<style scoped>\n",
       "    .dataframe tbody tr th:only-of-type {\n",
       "        vertical-align: middle;\n",
       "    }\n",
       "\n",
       "    .dataframe tbody tr th {\n",
       "        vertical-align: top;\n",
       "    }\n",
       "\n",
       "    .dataframe thead th {\n",
       "        text-align: right;\n",
       "    }\n",
       "</style>\n",
       "<table border=\"1\" class=\"dataframe\">\n",
       "  <thead>\n",
       "    <tr style=\"text-align: right;\">\n",
       "      <th></th>\n",
       "      <th>author</th>\n",
       "      <th>date</th>\n",
       "      <th>location</th>\n",
       "      <th>bank</th>\n",
       "      <th>star</th>\n",
       "      <th>text</th>\n",
       "      <th>like</th>\n",
       "    </tr>\n",
       "  </thead>\n",
       "  <tbody>\n",
       "    <tr>\n",
       "      <th>0</th>\n",
       "      <td>Kyle</td>\n",
       "      <td>31.08.2023</td>\n",
       "      <td>Magnolia, TX</td>\n",
       "      <td>merrick_bank</td>\n",
       "      <td>5</td>\n",
       "      <td>Very easy to use to view statements and make o...</td>\n",
       "      <td>NaN</td>\n",
       "    </tr>\n",
       "    <tr>\n",
       "      <th>1</th>\n",
       "      <td>Julicia</td>\n",
       "      <td>23.08.2023</td>\n",
       "      <td>Columbus, GA</td>\n",
       "      <td>merrick_bank</td>\n",
       "      <td>5</td>\n",
       "      <td>Merrick Bank has always been good to me for bu...</td>\n",
       "      <td>NaN</td>\n",
       "    </tr>\n",
       "    <tr>\n",
       "      <th>2</th>\n",
       "      <td>Karen</td>\n",
       "      <td>2.06.2023</td>\n",
       "      <td>Marrero, LA</td>\n",
       "      <td>merrick_bank</td>\n",
       "      <td>4</td>\n",
       "      <td>Times are tough for everyone and I have worked...</td>\n",
       "      <td>3.0</td>\n",
       "    </tr>\n",
       "    <tr>\n",
       "      <th>3</th>\n",
       "      <td>Brent</td>\n",
       "      <td>29.03.2023</td>\n",
       "      <td>Moultrie, GA</td>\n",
       "      <td>merrick_bank</td>\n",
       "      <td>5</td>\n",
       "      <td>I can not asked for a better Credit Card Compa...</td>\n",
       "      <td>3.0</td>\n",
       "    </tr>\n",
       "    <tr>\n",
       "      <th>4</th>\n",
       "      <td>Sharon</td>\n",
       "      <td>23.11.2022</td>\n",
       "      <td>Burnham, IL</td>\n",
       "      <td>merrick_bank</td>\n",
       "      <td>5</td>\n",
       "      <td>Updated on 02/10/2023: I was happy to sign for...</td>\n",
       "      <td>3.0</td>\n",
       "    </tr>\n",
       "    <tr>\n",
       "      <th>...</th>\n",
       "      <td>...</td>\n",
       "      <td>...</td>\n",
       "      <td>...</td>\n",
       "      <td>...</td>\n",
       "      <td>...</td>\n",
       "      <td>...</td>\n",
       "      <td>...</td>\n",
       "    </tr>\n",
       "    <tr>\n",
       "      <th>3494</th>\n",
       "      <td>Diamond</td>\n",
       "      <td>18.04.2022</td>\n",
       "      <td>Upland, CA</td>\n",
       "      <td>flagstar</td>\n",
       "      <td>1</td>\n",
       "      <td>I own a property with my sister, and since she...</td>\n",
       "      <td>3.0</td>\n",
       "    </tr>\n",
       "    <tr>\n",
       "      <th>3495</th>\n",
       "      <td>Tarrell</td>\n",
       "      <td>5.04.2022</td>\n",
       "      <td>Mcdonough, GA</td>\n",
       "      <td>flagstar</td>\n",
       "      <td>1</td>\n",
       "      <td>Really don't know where to start but I really ...</td>\n",
       "      <td>6.0</td>\n",
       "    </tr>\n",
       "    <tr>\n",
       "      <th>3496</th>\n",
       "      <td>Jason</td>\n",
       "      <td>4.04.2022</td>\n",
       "      <td>Gold Canyon, AZ</td>\n",
       "      <td>flagstar</td>\n",
       "      <td>1</td>\n",
       "      <td>I have now spent more time trying just to spea...</td>\n",
       "      <td>6.0</td>\n",
       "    </tr>\n",
       "    <tr>\n",
       "      <th>3497</th>\n",
       "      <td>Lisa</td>\n",
       "      <td>1.04.2022</td>\n",
       "      <td>Watsonville, CA</td>\n",
       "      <td>flagstar</td>\n",
       "      <td>1</td>\n",
       "      <td>I started a refi in November 2021, it's now Ap...</td>\n",
       "      <td>9.0</td>\n",
       "    </tr>\n",
       "    <tr>\n",
       "      <th>3498</th>\n",
       "      <td>Ray</td>\n",
       "      <td>23.03.2022</td>\n",
       "      <td>San Pedro, CA</td>\n",
       "      <td>flagstar</td>\n",
       "      <td>1</td>\n",
       "      <td>Flagstar Bank is the worst financial instituti...</td>\n",
       "      <td>8.0</td>\n",
       "    </tr>\n",
       "  </tbody>\n",
       "</table>\n",
       "<p>3499 rows × 7 columns</p>\n",
       "</div>"
      ],
      "text/plain": [
       "       author        date         location          bank  star  \\\n",
       "0        Kyle  31.08.2023     Magnolia, TX  merrick_bank     5   \n",
       "1     Julicia  23.08.2023     Columbus, GA  merrick_bank     5   \n",
       "2       Karen   2.06.2023      Marrero, LA  merrick_bank     4   \n",
       "3       Brent  29.03.2023     Moultrie, GA  merrick_bank     5   \n",
       "4      Sharon  23.11.2022      Burnham, IL  merrick_bank     5   \n",
       "...       ...         ...              ...           ...   ...   \n",
       "3494  Diamond  18.04.2022       Upland, CA      flagstar     1   \n",
       "3495  Tarrell   5.04.2022    Mcdonough, GA      flagstar     1   \n",
       "3496    Jason   4.04.2022  Gold Canyon, AZ      flagstar     1   \n",
       "3497     Lisa   1.04.2022  Watsonville, CA      flagstar     1   \n",
       "3498      Ray  23.03.2022    San Pedro, CA      flagstar     1   \n",
       "\n",
       "                                                   text  like  \n",
       "0     Very easy to use to view statements and make o...   NaN  \n",
       "1     Merrick Bank has always been good to me for bu...   NaN  \n",
       "2     Times are tough for everyone and I have worked...   3.0  \n",
       "3     I can not asked for a better Credit Card Compa...   3.0  \n",
       "4     Updated on 02/10/2023: I was happy to sign for...   3.0  \n",
       "...                                                 ...   ...  \n",
       "3494  I own a property with my sister, and since she...   3.0  \n",
       "3495  Really don't know where to start but I really ...   6.0  \n",
       "3496  I have now spent more time trying just to spea...   6.0  \n",
       "3497  I started a refi in November 2021, it's now Ap...   9.0  \n",
       "3498  Flagstar Bank is the worst financial instituti...   8.0  \n",
       "\n",
       "[3499 rows x 7 columns]"
      ]
     },
     "execution_count": 3,
     "metadata": {},
     "output_type": "execute_result"
    }
   ],
   "source": [
    "data = pd.read_csv('E:/Code/BKU/HK3/NLP/Banks.csv')\n",
    "data"
   ]
  },
  {
   "cell_type": "markdown",
   "metadata": {
    "id": "0M9Ck85s4nv4"
   },
   "source": [
    "## 2. Data Preprocessing\n",
    "\n",
    "- Add a sentiment column indicating positive and negative reviews based on a specified criteria (e.g., 4-5 stars as positive, 1-3 stars as negative).\n",
    "- Remove punctuations and numbers from the text.\n",
    "- Convert the text into lowercase for uniformity."
   ]
  },
  {
   "cell_type": "code",
   "execution_count": null,
   "metadata": {
    "colab": {
     "base_uri": "https://localhost:8080/"
    },
    "executionInfo": {
     "elapsed": 7,
     "status": "ok",
     "timestamp": 1701409890062,
     "user": {
      "displayName": "Thanapoom Phatthanaphan",
      "userId": "06703220080806313983"
     },
     "user_tz": 300
    },
    "id": "HHwd8dJ288-M",
    "outputId": "77ec986c-75ec-4a62-c7fd-7b587a2b8717"
   },
   "outputs": [
    {
     "data": {
      "text/plain": [
       "author        1\n",
       "date          0\n",
       "location      0\n",
       "bank          0\n",
       "star          0\n",
       "text         13\n",
       "like        418\n",
       "dtype: int64"
      ]
     },
     "execution_count": 4,
     "metadata": {},
     "output_type": "execute_result"
    }
   ],
   "source": [
    "data.isnull().sum()"
   ]
  },
  {
   "cell_type": "code",
   "execution_count": null,
   "metadata": {
    "executionInfo": {
     "elapsed": 5,
     "status": "ok",
     "timestamp": 1701409890062,
     "user": {
      "displayName": "Thanapoom Phatthanaphan",
      "userId": "06703220080806313983"
     },
     "user_tz": 300
    },
    "id": "cnOOlKAk9cBN"
   },
   "outputs": [],
   "source": [
    "data = data.dropna(subset=['text'])"
   ]
  },
  {
   "cell_type": "code",
   "execution_count": null,
   "metadata": {
    "colab": {
     "base_uri": "https://localhost:8080/"
    },
    "executionInfo": {
     "elapsed": 10,
     "status": "ok",
     "timestamp": 1701409890709,
     "user": {
      "displayName": "Thanapoom Phatthanaphan",
      "userId": "06703220080806313983"
     },
     "user_tz": 300
    },
    "id": "0tqI0u3A9ngV",
    "outputId": "eb914b0c-6838-4cd2-a24b-5d61630cc12f"
   },
   "outputs": [
    {
     "data": {
      "text/plain": [
       "author        1\n",
       "date          0\n",
       "location      0\n",
       "bank          0\n",
       "star          0\n",
       "text          0\n",
       "like        417\n",
       "dtype: int64"
      ]
     },
     "execution_count": 6,
     "metadata": {},
     "output_type": "execute_result"
    }
   ],
   "source": [
    "data.isnull().sum()"
   ]
  },
  {
   "cell_type": "code",
   "execution_count": null,
   "metadata": {
    "colab": {
     "base_uri": "https://localhost:8080/",
     "height": 528
    },
    "executionInfo": {
     "elapsed": 9,
     "status": "ok",
     "timestamp": 1701409890710,
     "user": {
      "displayName": "Thanapoom Phatthanaphan",
      "userId": "06703220080806313983"
     },
     "user_tz": 300
    },
    "id": "y4Vq-U6q5AVn",
    "outputId": "d8c192a2-1f87-4de1-93da-949ca0d10a3c"
   },
   "outputs": [
    {
     "name": "stderr",
     "output_type": "stream",
     "text": [
      "C:\\Users\\ADMIN\\AppData\\Local\\Temp\\ipykernel_3924\\1259298755.py:3: SettingWithCopyWarning: \n",
      "A value is trying to be set on a copy of a slice from a DataFrame.\n",
      "Try using .loc[row_indexer,col_indexer] = value instead\n",
      "\n",
      "See the caveats in the documentation: https://pandas.pydata.org/pandas-docs/stable/user_guide/indexing.html#returning-a-view-versus-a-copy\n",
      "  reviews_data['sentiment'] = reviews_data['star'].apply(lambda x: 0 if x <= 3 else 1)\n"
     ]
    },
    {
     "data": {
      "text/html": [
       "<div>\n",
       "<style scoped>\n",
       "    .dataframe tbody tr th:only-of-type {\n",
       "        vertical-align: middle;\n",
       "    }\n",
       "\n",
       "    .dataframe tbody tr th {\n",
       "        vertical-align: top;\n",
       "    }\n",
       "\n",
       "    .dataframe thead th {\n",
       "        text-align: right;\n",
       "    }\n",
       "</style>\n",
       "<table border=\"1\" class=\"dataframe\">\n",
       "  <thead>\n",
       "    <tr style=\"text-align: right;\">\n",
       "      <th></th>\n",
       "      <th>star</th>\n",
       "      <th>text</th>\n",
       "      <th>sentiment</th>\n",
       "    </tr>\n",
       "  </thead>\n",
       "  <tbody>\n",
       "    <tr>\n",
       "      <th>0</th>\n",
       "      <td>5</td>\n",
       "      <td>Very easy to use to view statements and make o...</td>\n",
       "      <td>1</td>\n",
       "    </tr>\n",
       "    <tr>\n",
       "      <th>1</th>\n",
       "      <td>5</td>\n",
       "      <td>Merrick Bank has always been good to me for bu...</td>\n",
       "      <td>1</td>\n",
       "    </tr>\n",
       "    <tr>\n",
       "      <th>2</th>\n",
       "      <td>4</td>\n",
       "      <td>Times are tough for everyone and I have worked...</td>\n",
       "      <td>1</td>\n",
       "    </tr>\n",
       "    <tr>\n",
       "      <th>3</th>\n",
       "      <td>5</td>\n",
       "      <td>I can not asked for a better Credit Card Compa...</td>\n",
       "      <td>1</td>\n",
       "    </tr>\n",
       "    <tr>\n",
       "      <th>4</th>\n",
       "      <td>5</td>\n",
       "      <td>Updated on 02/10/2023: I was happy to sign for...</td>\n",
       "      <td>1</td>\n",
       "    </tr>\n",
       "    <tr>\n",
       "      <th>...</th>\n",
       "      <td>...</td>\n",
       "      <td>...</td>\n",
       "      <td>...</td>\n",
       "    </tr>\n",
       "    <tr>\n",
       "      <th>3494</th>\n",
       "      <td>1</td>\n",
       "      <td>I own a property with my sister, and since she...</td>\n",
       "      <td>0</td>\n",
       "    </tr>\n",
       "    <tr>\n",
       "      <th>3495</th>\n",
       "      <td>1</td>\n",
       "      <td>Really don't know where to start but I really ...</td>\n",
       "      <td>0</td>\n",
       "    </tr>\n",
       "    <tr>\n",
       "      <th>3496</th>\n",
       "      <td>1</td>\n",
       "      <td>I have now spent more time trying just to spea...</td>\n",
       "      <td>0</td>\n",
       "    </tr>\n",
       "    <tr>\n",
       "      <th>3497</th>\n",
       "      <td>1</td>\n",
       "      <td>I started a refi in November 2021, it's now Ap...</td>\n",
       "      <td>0</td>\n",
       "    </tr>\n",
       "    <tr>\n",
       "      <th>3498</th>\n",
       "      <td>1</td>\n",
       "      <td>Flagstar Bank is the worst financial instituti...</td>\n",
       "      <td>0</td>\n",
       "    </tr>\n",
       "  </tbody>\n",
       "</table>\n",
       "<p>3486 rows × 3 columns</p>\n",
       "</div>"
      ],
      "text/plain": [
       "      star                                               text  sentiment\n",
       "0        5  Very easy to use to view statements and make o...          1\n",
       "1        5  Merrick Bank has always been good to me for bu...          1\n",
       "2        4  Times are tough for everyone and I have worked...          1\n",
       "3        5  I can not asked for a better Credit Card Compa...          1\n",
       "4        5  Updated on 02/10/2023: I was happy to sign for...          1\n",
       "...    ...                                                ...        ...\n",
       "3494     1  I own a property with my sister, and since she...          0\n",
       "3495     1  Really don't know where to start but I really ...          0\n",
       "3496     1  I have now spent more time trying just to spea...          0\n",
       "3497     1  I started a refi in November 2021, it's now Ap...          0\n",
       "3498     1  Flagstar Bank is the worst financial instituti...          0\n",
       "\n",
       "[3486 rows x 3 columns]"
      ]
     },
     "execution_count": 7,
     "metadata": {},
     "output_type": "execute_result"
    }
   ],
   "source": [
    "reviews_data = data[['star', 'text']]\n",
    "reviews_data['sentiment'] = reviews_data['star'].apply(lambda x: 0 if x <= 3 else 1)\n",
    "reviews_data"
   ]
  },
  {
   "cell_type": "markdown",
   "metadata": {
    "id": "F2mR4frq7PWH"
   },
   "source": [
    "**Clean the text**"
   ]
  },
  {
   "cell_type": "code",
   "execution_count": null,
   "metadata": {
    "colab": {
     "base_uri": "https://localhost:8080/",
     "height": 528
    },
    "executionInfo": {
     "elapsed": 9170,
     "status": "ok",
     "timestamp": 1701409899874,
     "user": {
      "displayName": "Thanapoom Phatthanaphan",
      "userId": "06703220080806313983"
     },
     "user_tz": 300
    },
    "id": "favW60U24eZ9",
    "outputId": "eef71243-1897-4dd3-9040-505c1ed7142e"
   },
   "outputs": [
    {
     "data": {
      "text/html": [
       "<div>\n",
       "<style scoped>\n",
       "    .dataframe tbody tr th:only-of-type {\n",
       "        vertical-align: middle;\n",
       "    }\n",
       "\n",
       "    .dataframe tbody tr th {\n",
       "        vertical-align: top;\n",
       "    }\n",
       "\n",
       "    .dataframe thead th {\n",
       "        text-align: right;\n",
       "    }\n",
       "</style>\n",
       "<table border=\"1\" class=\"dataframe\">\n",
       "  <thead>\n",
       "    <tr style=\"text-align: right;\">\n",
       "      <th></th>\n",
       "      <th>star</th>\n",
       "      <th>text</th>\n",
       "      <th>sentiment</th>\n",
       "    </tr>\n",
       "  </thead>\n",
       "  <tbody>\n",
       "    <tr>\n",
       "      <th>0</th>\n",
       "      <td>5</td>\n",
       "      <td>Very easy to use to view statements and make o...</td>\n",
       "      <td>1</td>\n",
       "    </tr>\n",
       "    <tr>\n",
       "      <th>1</th>\n",
       "      <td>5</td>\n",
       "      <td>Merrick Bank has always been good to me for bu...</td>\n",
       "      <td>1</td>\n",
       "    </tr>\n",
       "    <tr>\n",
       "      <th>2</th>\n",
       "      <td>4</td>\n",
       "      <td>Times are tough for everyone and I have worked...</td>\n",
       "      <td>1</td>\n",
       "    </tr>\n",
       "    <tr>\n",
       "      <th>3</th>\n",
       "      <td>5</td>\n",
       "      <td>I can not asked for a better Credit Card Compa...</td>\n",
       "      <td>1</td>\n",
       "    </tr>\n",
       "    <tr>\n",
       "      <th>4</th>\n",
       "      <td>5</td>\n",
       "      <td>Updated on 02/10/2023: I was happy to sign for...</td>\n",
       "      <td>1</td>\n",
       "    </tr>\n",
       "    <tr>\n",
       "      <th>...</th>\n",
       "      <td>...</td>\n",
       "      <td>...</td>\n",
       "      <td>...</td>\n",
       "    </tr>\n",
       "    <tr>\n",
       "      <th>3494</th>\n",
       "      <td>1</td>\n",
       "      <td>I own a property with my sister, and since she...</td>\n",
       "      <td>0</td>\n",
       "    </tr>\n",
       "    <tr>\n",
       "      <th>3495</th>\n",
       "      <td>1</td>\n",
       "      <td>Really don't know where to start but I really ...</td>\n",
       "      <td>0</td>\n",
       "    </tr>\n",
       "    <tr>\n",
       "      <th>3496</th>\n",
       "      <td>1</td>\n",
       "      <td>I have now spent more time trying just to spea...</td>\n",
       "      <td>0</td>\n",
       "    </tr>\n",
       "    <tr>\n",
       "      <th>3497</th>\n",
       "      <td>1</td>\n",
       "      <td>I started a refi in November 2021, it's now Ap...</td>\n",
       "      <td>0</td>\n",
       "    </tr>\n",
       "    <tr>\n",
       "      <th>3498</th>\n",
       "      <td>1</td>\n",
       "      <td>Flagstar Bank is the worst financial instituti...</td>\n",
       "      <td>0</td>\n",
       "    </tr>\n",
       "  </tbody>\n",
       "</table>\n",
       "<p>3486 rows × 3 columns</p>\n",
       "</div>"
      ],
      "text/plain": [
       "      star                                               text  sentiment\n",
       "0        5  Very easy to use to view statements and make o...          1\n",
       "1        5  Merrick Bank has always been good to me for bu...          1\n",
       "2        4  Times are tough for everyone and I have worked...          1\n",
       "3        5  I can not asked for a better Credit Card Compa...          1\n",
       "4        5  Updated on 02/10/2023: I was happy to sign for...          1\n",
       "...    ...                                                ...        ...\n",
       "3494     1  I own a property with my sister, and since she...          0\n",
       "3495     1  Really don't know where to start but I really ...          0\n",
       "3496     1  I have now spent more time trying just to spea...          0\n",
       "3497     1  I started a refi in November 2021, it's now Ap...          0\n",
       "3498     1  Flagstar Bank is the worst financial instituti...          0\n",
       "\n",
       "[3486 rows x 3 columns]"
      ]
     },
     "execution_count": 8,
     "metadata": {},
     "output_type": "execute_result"
    }
   ],
   "source": [
    "def clean_text(text):\n",
    "\n",
    "    text = str(text).lower()\n",
    "\n",
    "    text = re.sub(r'[^a-zA-Z0-9\\s]', '', text)\n",
    "    text = re.sub(r'\\d', '', text)\n",
    "\n",
    "    stop_words = set(stopwords.words('english'))\n",
    "\n",
    "    words = tokenization(text)\n",
    "    cleaned_text = ''\n",
    "    for word in words:\n",
    "\n",
    "        if word not in stop_words:\n",
    "            cleaned_text += ' ' + word\n",
    "\n",
    "    return cleaned_text\n",
    "\n",
    "\n",
    "def tokenization(text):\n",
    "\n",
    "    words = nltk.word_tokenize(text)\n",
    "\n",
    "    return words\n",
    "\n",
    "reviews_data"
   ]
  },
  {
   "cell_type": "markdown",
   "metadata": {
    "id": "Rl9p8luLBy5b"
   },
   "source": [
    "**Data statistics**"
   ]
  },
  {
   "cell_type": "code",
   "execution_count": null,
   "metadata": {
    "colab": {
     "base_uri": "https://localhost:8080/",
     "height": 125
    },
    "executionInfo": {
     "elapsed": 8,
     "status": "ok",
     "timestamp": 1701409899875,
     "user": {
      "displayName": "Thanapoom Phatthanaphan",
      "userId": "06703220080806313983"
     },
     "user_tz": 300
    },
    "id": "HNfkiDEnALCi",
    "outputId": "bcf47122-8561-45e0-fb1d-8951eb2d3bd1"
   },
   "outputs": [
    {
     "data": {
      "text/html": [
       "<div>\n",
       "<style scoped>\n",
       "    .dataframe tbody tr th:only-of-type {\n",
       "        vertical-align: middle;\n",
       "    }\n",
       "\n",
       "    .dataframe tbody tr th {\n",
       "        vertical-align: top;\n",
       "    }\n",
       "\n",
       "    .dataframe thead th {\n",
       "        text-align: right;\n",
       "    }\n",
       "</style>\n",
       "<table border=\"1\" class=\"dataframe\">\n",
       "  <thead>\n",
       "    <tr style=\"text-align: right;\">\n",
       "      <th></th>\n",
       "      <th>Sentiment</th>\n",
       "      <th>#Reviews</th>\n",
       "      <th>Min. #tokens</th>\n",
       "      <th>Avg. #tokens</th>\n",
       "      <th>Max. #tokens</th>\n",
       "    </tr>\n",
       "  </thead>\n",
       "  <tbody>\n",
       "    <tr>\n",
       "      <th>0</th>\n",
       "      <td>Positive reviews</td>\n",
       "      <td>844</td>\n",
       "      <td>98</td>\n",
       "      <td>311</td>\n",
       "      <td>951</td>\n",
       "    </tr>\n",
       "    <tr>\n",
       "      <th>1</th>\n",
       "      <td>Negative reviews</td>\n",
       "      <td>2642</td>\n",
       "      <td>15</td>\n",
       "      <td>565</td>\n",
       "      <td>1854</td>\n",
       "    </tr>\n",
       "  </tbody>\n",
       "</table>\n",
       "</div>"
      ],
      "text/plain": [
       "          Sentiment  #Reviews  Min. #tokens  Avg. #tokens  Max. #tokens\n",
       "0  Positive reviews       844            98           311           951\n",
       "1  Negative reviews      2642            15           565          1854"
      ]
     },
     "execution_count": 9,
     "metadata": {},
     "output_type": "execute_result"
    }
   ],
   "source": [
    "def get_num_tokens(tokens_list):\n",
    "\n",
    "    return len(tokens_list)\n",
    "\n",
    "dataset_info = {\n",
    "    'Sentiment': ['Positive reviews',\n",
    "                  'Negative reviews'],\n",
    "    '#Reviews': [len(reviews_data[reviews_data['sentiment'] == 1]['text']),\n",
    "                 len(reviews_data[reviews_data['sentiment'] == 0]['text'])],\n",
    "    'Min. #tokens': [min(reviews_data[reviews_data['sentiment'] == 1]['text'].apply(get_num_tokens)),\n",
    "                     min(reviews_data[reviews_data['sentiment'] == 0]['text'].apply(get_num_tokens))],\n",
    "    'Avg. #tokens': [round(reviews_data[reviews_data['sentiment'] == 1]['text'].apply(get_num_tokens).mean()),\n",
    "                     round(reviews_data[reviews_data['sentiment'] == 0]['text'].apply(get_num_tokens).mean())],\n",
    "    'Max. #tokens': [max(reviews_data[reviews_data['sentiment'] == 1]['text'].apply(get_num_tokens)),\n",
    "                     max(reviews_data[reviews_data['sentiment'] == 0]['text'].apply(get_num_tokens))]\n",
    "}\n",
    "\n",
    "dataset_info_table = pd.DataFrame(dataset_info)\n",
    "\n",
    "dataset_info_table"
   ]
  },
  {
   "cell_type": "code",
   "execution_count": null,
   "metadata": {
    "colab": {
     "base_uri": "https://localhost:8080/",
     "height": 472
    },
    "executionInfo": {
     "elapsed": 524,
     "status": "ok",
     "timestamp": 1701409900393,
     "user": {
      "displayName": "Thanapoom Phatthanaphan",
      "userId": "06703220080806313983"
     },
     "user_tz": 300
    },
    "id": "DLsI1dAGHrj3",
    "outputId": "8266561d-2479-4bed-f4da-387d7a7a6d94"
   },
   "outputs": [
    {
     "data": {
      "image/png": "[encoded data removed]",
      "text/plain": [
       "<Figure size 640x480 with 1 Axes>"
      ]
     },
     "metadata": {},
     "output_type": "display_data"
    }
   ],
   "source": [
    "sequence_lengths = [reviews_data['text'].apply(get_num_tokens)]\n",
    "plt.hist(sequence_lengths, bins=30)\n",
    "plt.xlabel('Number of Tokens')\n",
    "plt.ylabel('Frequency')\n",
    "plt.title('Distribution of Number of Tokens in Sequences')\n",
    "plt.show()"
   ]
  },
  {
   "cell_type": "markdown",
   "metadata": {},
   "source": [
    "## 3. CNN Model Training\n",
    "Systematically divided into three sets: training (80%), and test (20%). Training set instructs the CNN, enabling it to learn patterns and relationships within the data. "
   ]
  },
  {
   "cell_type": "code",
   "execution_count": null,
   "metadata": {},
   "outputs": [],
   "source": [
    "reviews = pd.DataFrame(reviews_data['text'])\n",
    "labels = pd.DataFrame(reviews_data['sentiment'])\n",
    "\n",
    "reviews_train, reviews_temp, labels_train, labels_temp = train_test_split(reviews, labels, test_size=0.2, random_state=100)\n",
    "reviews_val, reviews_test, labels_val, labels_test = train_test_split(reviews_temp, labels_temp, test_size=0.5, random_state=100)"
   ]
  },
  {
   "cell_type": "code",
   "execution_count": 12,
   "metadata": {},
   "outputs": [
    {
     "data": {
      "text/html": [
       "<div>\n",
       "<style scoped>\n",
       "    .dataframe tbody tr th:only-of-type {\n",
       "        vertical-align: middle;\n",
       "    }\n",
       "\n",
       "    .dataframe tbody tr th {\n",
       "        vertical-align: top;\n",
       "    }\n",
       "\n",
       "    .dataframe thead th {\n",
       "        text-align: right;\n",
       "    }\n",
       "</style>\n",
       "<table border=\"1\" class=\"dataframe\">\n",
       "  <thead>\n",
       "    <tr style=\"text-align: right;\">\n",
       "      <th></th>\n",
       "      <th>text</th>\n",
       "    </tr>\n",
       "  </thead>\n",
       "  <tbody>\n",
       "    <tr>\n",
       "      <th>0</th>\n",
       "      <td>Very easy to use to view statements and make o...</td>\n",
       "    </tr>\n",
       "    <tr>\n",
       "      <th>1</th>\n",
       "      <td>Merrick Bank has always been good to me for bu...</td>\n",
       "    </tr>\n",
       "    <tr>\n",
       "      <th>2</th>\n",
       "      <td>Times are tough for everyone and I have worked...</td>\n",
       "    </tr>\n",
       "    <tr>\n",
       "      <th>3</th>\n",
       "      <td>I can not asked for a better Credit Card Compa...</td>\n",
       "    </tr>\n",
       "    <tr>\n",
       "      <th>4</th>\n",
       "      <td>Updated on 02/10/2023: I was happy to sign for...</td>\n",
       "    </tr>\n",
       "    <tr>\n",
       "      <th>...</th>\n",
       "      <td>...</td>\n",
       "    </tr>\n",
       "    <tr>\n",
       "      <th>3494</th>\n",
       "      <td>I own a property with my sister, and since she...</td>\n",
       "    </tr>\n",
       "    <tr>\n",
       "      <th>3495</th>\n",
       "      <td>Really don't know where to start but I really ...</td>\n",
       "    </tr>\n",
       "    <tr>\n",
       "      <th>3496</th>\n",
       "      <td>I have now spent more time trying just to spea...</td>\n",
       "    </tr>\n",
       "    <tr>\n",
       "      <th>3497</th>\n",
       "      <td>I started a refi in November 2021, it's now Ap...</td>\n",
       "    </tr>\n",
       "    <tr>\n",
       "      <th>3498</th>\n",
       "      <td>Flagstar Bank is the worst financial instituti...</td>\n",
       "    </tr>\n",
       "  </tbody>\n",
       "</table>\n",
       "<p>3486 rows × 1 columns</p>\n",
       "</div>"
      ],
      "text/plain": [
       "                                                   text\n",
       "0     Very easy to use to view statements and make o...\n",
       "1     Merrick Bank has always been good to me for bu...\n",
       "2     Times are tough for everyone and I have worked...\n",
       "3     I can not asked for a better Credit Card Compa...\n",
       "4     Updated on 02/10/2023: I was happy to sign for...\n",
       "...                                                 ...\n",
       "3494  I own a property with my sister, and since she...\n",
       "3495  Really don't know where to start but I really ...\n",
       "3496  I have now spent more time trying just to spea...\n",
       "3497  I started a refi in November 2021, it's now Ap...\n",
       "3498  Flagstar Bank is the worst financial instituti...\n",
       "\n",
       "[3486 rows x 1 columns]"
      ]
     },
     "execution_count": 12,
     "metadata": {},
     "output_type": "execute_result"
    }
   ],
   "source": [
    "reviews"
   ]
  },
  {
   "cell_type": "code",
   "execution_count": 13,
   "metadata": {},
   "outputs": [
    {
     "data": {
      "text/html": [
       "<div>\n",
       "<style scoped>\n",
       "    .dataframe tbody tr th:only-of-type {\n",
       "        vertical-align: middle;\n",
       "    }\n",
       "\n",
       "    .dataframe tbody tr th {\n",
       "        vertical-align: top;\n",
       "    }\n",
       "\n",
       "    .dataframe thead th {\n",
       "        text-align: right;\n",
       "    }\n",
       "</style>\n",
       "<table border=\"1\" class=\"dataframe\">\n",
       "  <thead>\n",
       "    <tr style=\"text-align: right;\">\n",
       "      <th></th>\n",
       "      <th>sentiment</th>\n",
       "    </tr>\n",
       "  </thead>\n",
       "  <tbody>\n",
       "    <tr>\n",
       "      <th>0</th>\n",
       "      <td>1</td>\n",
       "    </tr>\n",
       "    <tr>\n",
       "      <th>1</th>\n",
       "      <td>1</td>\n",
       "    </tr>\n",
       "    <tr>\n",
       "      <th>2</th>\n",
       "      <td>1</td>\n",
       "    </tr>\n",
       "    <tr>\n",
       "      <th>3</th>\n",
       "      <td>1</td>\n",
       "    </tr>\n",
       "    <tr>\n",
       "      <th>4</th>\n",
       "      <td>1</td>\n",
       "    </tr>\n",
       "    <tr>\n",
       "      <th>...</th>\n",
       "      <td>...</td>\n",
       "    </tr>\n",
       "    <tr>\n",
       "      <th>3494</th>\n",
       "      <td>0</td>\n",
       "    </tr>\n",
       "    <tr>\n",
       "      <th>3495</th>\n",
       "      <td>0</td>\n",
       "    </tr>\n",
       "    <tr>\n",
       "      <th>3496</th>\n",
       "      <td>0</td>\n",
       "    </tr>\n",
       "    <tr>\n",
       "      <th>3497</th>\n",
       "      <td>0</td>\n",
       "    </tr>\n",
       "    <tr>\n",
       "      <th>3498</th>\n",
       "      <td>0</td>\n",
       "    </tr>\n",
       "  </tbody>\n",
       "</table>\n",
       "<p>3486 rows × 1 columns</p>\n",
       "</div>"
      ],
      "text/plain": [
       "      sentiment\n",
       "0             1\n",
       "1             1\n",
       "2             1\n",
       "3             1\n",
       "4             1\n",
       "...         ...\n",
       "3494          0\n",
       "3495          0\n",
       "3496          0\n",
       "3497          0\n",
       "3498          0\n",
       "\n",
       "[3486 rows x 1 columns]"
      ]
     },
     "execution_count": 13,
     "metadata": {},
     "output_type": "execute_result"
    }
   ],
   "source": [
    "labels"
   ]
  },
  {
   "cell_type": "code",
   "execution_count": null,
   "metadata": {},
   "outputs": [],
   "source": [
    "import pandas as pd\n",
    "from sklearn.model_selection import train_test_split\n",
    "from tensorflow.keras.preprocessing.text import Tokenizer\n",
    "from tensorflow.keras.preprocessing.sequence import pad_sequences\n",
    "from tensorflow.keras.utils import to_categorical\n",
    "from tensorflow.keras.models import Sequential\n",
    "from tensorflow.keras.layers import Conv1D, MaxPooling1D, Flatten, Dense, Embedding, Dropout\n",
    "import tensorflow as tf"
   ]
  },
  {
   "cell_type": "code",
   "execution_count": 15,
   "metadata": {},
   "outputs": [
    {
     "name": "stdout",
     "output_type": "stream",
     "text": [
      "Epoch 1/5\n"
     ]
    },
    {
     "name": "stderr",
     "output_type": "stream",
     "text": [
      "c:\\Users\\ADMIN\\AppData\\Local\\Programs\\Python\\Python311\\Lib\\site-packages\\keras\\src\\layers\\core\\embedding.py:90: UserWarning: Argument `input_length` is deprecated. Just remove it.\n",
      "  warnings.warn(\n"
     ]
    },
    {
     "name": "stdout",
     "output_type": "stream",
     "text": [
      "\u001b[1m44/44\u001b[0m \u001b[32m━━━━━━━━━━━━━━━━━━━━\u001b[0m\u001b[37m\u001b[0m \u001b[1m1s\u001b[0m 10ms/step - accuracy: 0.7512 - loss: 0.4608 - val_accuracy: 0.8510 - val_loss: 0.3499\n",
      "Epoch 2/5\n",
      "\u001b[1m44/44\u001b[0m \u001b[32m━━━━━━━━━━━━━━━━━━━━\u001b[0m\u001b[37m\u001b[0m \u001b[1m0s\u001b[0m 7ms/step - accuracy: 0.8930 - loss: 0.2755 - val_accuracy: 0.8997 - val_loss: 0.2327\n",
      "Epoch 3/5\n",
      "\u001b[1m44/44\u001b[0m \u001b[32m━━━━━━━━━━━━━━━━━━━━\u001b[0m\u001b[37m\u001b[0m \u001b[1m0s\u001b[0m 7ms/step - accuracy: 0.9701 - loss: 0.0882 - val_accuracy: 0.9226 - val_loss: 0.2559\n",
      "Epoch 4/5\n",
      "\u001b[1m44/44\u001b[0m \u001b[32m━━━━━━━━━━━━━━━━━━━━\u001b[0m\u001b[37m\u001b[0m \u001b[1m0s\u001b[0m 7ms/step - accuracy: 0.9917 - loss: 0.0349 - val_accuracy: 0.8997 - val_loss: 0.2931\n",
      "Epoch 5/5\n",
      "\u001b[1m44/44\u001b[0m \u001b[32m━━━━━━━━━━━━━━━━━━━━\u001b[0m\u001b[37m\u001b[0m \u001b[1m0s\u001b[0m 7ms/step - accuracy: 0.9991 - loss: 0.0063 - val_accuracy: 0.9284 - val_loss: 0.3419\n",
      "\u001b[1m11/11\u001b[0m \u001b[32m━━━━━━━━━━━━━━━━━━━━\u001b[0m\u001b[37m\u001b[0m \u001b[1m0s\u001b[0m 3ms/step - accuracy: 0.9612 - loss: 0.1562 \n",
      "Test Accuracy: 95.70%\n",
      "\u001b[1m11/11\u001b[0m \u001b[32m━━━━━━━━━━━━━━━━━━━━\u001b[0m\u001b[37m\u001b[0m \u001b[1m0s\u001b[0m 5ms/step \n",
      "Review: I would recommend Merrick to anyone. While rebuilding my credit I have found that their website was very easy to use and very professional. Any interaction with their staff was always cordial and professional.\n",
      "True Sentiment: 1\n",
      "Predicted Sentiment: 1\n",
      "--------------------------------------------------\n",
      "Review: Never use this company. This is our buyer's loan company. We had a closing date of May 30th. 2 days before closing we get a call saying we can't close because BB&T screwed up. It then took 3 days for them to get back to us with a new closing date of June 7th and now again 2 days before closing we are getting a call that they screwed up again and we have no closing date. The incompetency at this company is unbelievable. I would never trust them with anything let alone a loan.\n",
      "True Sentiment: 0\n",
      "Predicted Sentiment: 0\n",
      "--------------------------------------------------\n",
      "Review: I received a pre-APPROVED card offer in the mail. I responded online with the approval code only seconds later to be Declined. And immediately following I received a email from Experian letting me know that my score was impacted by a HARD INQUIRY from MERRICK BANK. There has been no change in my score since the date I was effectively PRE APPROVED. WHY NOT JUST SEND A PRE QUALIFIED NOTICE? I am checking into this further. It’s certainly not over.\n",
      "True Sentiment: 0\n",
      "Predicted Sentiment: 0\n",
      "--------------------------------------------------\n",
      "Review: I almost don't know where to start when it comes to the issues with this institution. The first red flag for me was the fact that they seriously dropped the ball in regard to transferring all the login info for online banking from First Niagara when the transition was done, then have a senior level member actually lay blame on the customers, as if we never before used any form of online banking. I should have gone with my gut and closed my account then and there, but I thought \"Well, that's just one issue, mistakes happen.\" Now, several months later I highly doubt my accounts will remain open with them for another month.\n",
      "True Sentiment: 0\n",
      "Predicted Sentiment: 0\n",
      "--------------------------------------------------\n",
      "Review: We have an auto loan with them and they are very hard to get in touch with. They are extremely rude, threatening, and harassing, and liars. They will tell you what you want to hear. Make arrangements with you and then break them, make unauthorized debts to your bank account.\n",
      "True Sentiment: 0\n",
      "Predicted Sentiment: 0\n",
      "--------------------------------------------------\n"
     ]
    }
   ],
   "source": [
    "# Text Preprocessing\n",
    "MAX_NB_WORDS = 10000  # Maximum number of words to use (vocabulary size)\n",
    "MAX_SEQUENCE_LENGTH = 100  # Maximum length of sequences\n",
    "EMBEDDING_DIM = 100  # Embedding dimension\n",
    "\n",
    "# Tokenize the text data\n",
    "tokenizer = Tokenizer(num_words=MAX_NB_WORDS)\n",
    "tokenizer.fit_on_texts(reviews_train['text'])\n",
    "\n",
    "# Convert text data to sequences of integers\n",
    "X_train = tokenizer.texts_to_sequences(reviews_train['text'])\n",
    "X_val = tokenizer.texts_to_sequences(reviews_val['text'])\n",
    "X_test = tokenizer.texts_to_sequences(reviews_test['text'])\n",
    "\n",
    "# Pad sequences to ensure the same length\n",
    "X_train = pad_sequences(X_train, maxlen=MAX_SEQUENCE_LENGTH)\n",
    "X_val = pad_sequences(X_val, maxlen=MAX_SEQUENCE_LENGTH)\n",
    "X_test = pad_sequences(X_test, maxlen=MAX_SEQUENCE_LENGTH)\n",
    "\n",
    "# Convert labels to categorical (one-hot encoding)\n",
    "y_train = to_categorical(labels_train)\n",
    "y_val = to_categorical(labels_val)\n",
    "y_test = to_categorical(labels_test)\n",
    "\n",
    "# Build the CNN model\n",
    "modelCNN = Sequential()\n",
    "\n",
    "# Embedding layer to convert words into word vectors\n",
    "modelCNN.add(Embedding(input_dim=MAX_NB_WORDS, output_dim=EMBEDDING_DIM, input_length=MAX_SEQUENCE_LENGTH))\n",
    "\n",
    "# Convolutional layer to learn features from sequences\n",
    "modelCNN.add(Conv1D(filters=128, kernel_size=5, activation='relu'))\n",
    "\n",
    "# Max pooling layer\n",
    "modelCNN.add(MaxPooling1D(pool_size=4))\n",
    "\n",
    "# Dropout layer to prevent overfitting\n",
    "modelCNN.add(Dropout(0.5))\n",
    "\n",
    "# Flatten the output to connect to the dense layers\n",
    "modelCNN.add(Flatten())\n",
    "\n",
    "# Fully connected dense layer\n",
    "modelCNN.add(Dense(128, activation='relu'))\n",
    "\n",
    "# Output layer with softmax for multi-class classification\n",
    "modelCNN.add(Dense(2, activation='softmax'))  # Adjust '2' for the number of classes (binary classification in this case)\n",
    "\n",
    "# Compile the model\n",
    "modelCNN.compile(loss='categorical_crossentropy', optimizer='adam', metrics=['accuracy'])\n",
    "\n",
    "# Train the model\n",
    "history = modelCNN.fit(X_train, y_train, epochs=5, batch_size=64, validation_data=(X_val, y_val))\n",
    "\n",
    "# Evaluate the model on the test data\n",
    "score, accuracy = modelCNN.evaluate(X_test, y_test)\n",
    "print(f\"Test Accuracy: {accuracy * 100:.2f}%\")\n",
    "\n",
    "# Predictions on the test set\n",
    "predictions = modelCNN.predict(X_test)\n",
    "\n",
    "# Optionally, convert predictions to class labels (0 or 1)\n",
    "predicted_labels = predictions.argmax(axis=1)\n",
    "\n",
    "# Display some predictions (optional)\n",
    "for i in range(5):\n",
    "    print(f\"Review: {reviews_test.iloc[i]['text']}\")\n",
    "    print(f\"True Sentiment: {labels_test.iloc[i]['sentiment']}\")\n",
    "    print(f\"Predicted Sentiment: {predicted_labels[i]}\")\n",
    "    print(\"-\" * 50)\n"
   ]
  },
  {
   "cell_type": "code",
   "execution_count": 16,
   "metadata": {},
   "outputs": [
    {
     "data": {
      "image/png": "[encoded data removed]",
      "text/plain": [
       "<Figure size 1200x400 with 2 Axes>"
      ]
     },
     "metadata": {},
     "output_type": "display_data"
    }
   ],
   "source": [
    "# 5. (Tùy chọn) Vẽ đồ thị accuracy và loss\n",
    "import matplotlib.pyplot as plt\n",
    "\n",
    "plt.figure(figsize=(12, 4))\n",
    "plt.subplot(1, 2, 1)\n",
    "plt.plot(history.history['accuracy'], label='Train Accuracy')\n",
    "plt.plot(history.history['val_accuracy'], label='Validation Accuracy')\n",
    "plt.legend()\n",
    "plt.title('Accuracy')\n",
    "\n",
    "plt.subplot(1, 2, 2)\n",
    "plt.plot(history.history['loss'], label='Train Loss')\n",
    "plt.plot(history.history['val_loss'], label='Validation Loss')\n",
    "plt.legend()\n",
    "plt.title('Loss')\n",
    "\n",
    "plt.show()"
   ]
  },
  {
   "cell_type": "markdown",
   "metadata": {},
   "source": [
    "## 4. LSTM Model Training\n",
    "Systematically divided into three sets: training (80%), and test (20%). Training set instructs the LSTM, enabling it to learn patterns and relationships within the data. "
   ]
  },
  {
   "cell_type": "code",
   "execution_count": 17,
   "metadata": {},
   "outputs": [],
   "source": [
    "# Define input variable and target variable\n",
    "reviews = pd.DataFrame(reviews_data['text'])\n",
    "labels = pd.DataFrame(reviews_data['sentiment'])\n",
    "\n",
    "# Split the dataset into 3 parts, including training set (80%), validation set (10%), and test set (10%)\n",
    "reviews_train, reviews_temp, labels_train, labels_temp = train_test_split(reviews, labels, test_size=0.2, random_state=100)\n",
    "reviews_val, reviews_test, labels_val, labels_test = train_test_split(reviews_temp, labels_temp, test_size=0.5, random_state=100)"
   ]
  },
  {
   "cell_type": "code",
   "execution_count": 18,
   "metadata": {},
   "outputs": [
    {
     "data": {
      "text/html": [
       "<div>\n",
       "<style scoped>\n",
       "    .dataframe tbody tr th:only-of-type {\n",
       "        vertical-align: middle;\n",
       "    }\n",
       "\n",
       "    .dataframe tbody tr th {\n",
       "        vertical-align: top;\n",
       "    }\n",
       "\n",
       "    .dataframe thead th {\n",
       "        text-align: right;\n",
       "    }\n",
       "</style>\n",
       "<table border=\"1\" class=\"dataframe\">\n",
       "  <thead>\n",
       "    <tr style=\"text-align: right;\">\n",
       "      <th></th>\n",
       "      <th>text</th>\n",
       "    </tr>\n",
       "  </thead>\n",
       "  <tbody>\n",
       "    <tr>\n",
       "      <th>0</th>\n",
       "      <td>Very easy to use to view statements and make o...</td>\n",
       "    </tr>\n",
       "    <tr>\n",
       "      <th>1</th>\n",
       "      <td>Merrick Bank has always been good to me for bu...</td>\n",
       "    </tr>\n",
       "    <tr>\n",
       "      <th>2</th>\n",
       "      <td>Times are tough for everyone and I have worked...</td>\n",
       "    </tr>\n",
       "    <tr>\n",
       "      <th>3</th>\n",
       "      <td>I can not asked for a better Credit Card Compa...</td>\n",
       "    </tr>\n",
       "    <tr>\n",
       "      <th>4</th>\n",
       "      <td>Updated on 02/10/2023: I was happy to sign for...</td>\n",
       "    </tr>\n",
       "    <tr>\n",
       "      <th>...</th>\n",
       "      <td>...</td>\n",
       "    </tr>\n",
       "    <tr>\n",
       "      <th>3494</th>\n",
       "      <td>I own a property with my sister, and since she...</td>\n",
       "    </tr>\n",
       "    <tr>\n",
       "      <th>3495</th>\n",
       "      <td>Really don't know where to start but I really ...</td>\n",
       "    </tr>\n",
       "    <tr>\n",
       "      <th>3496</th>\n",
       "      <td>I have now spent more time trying just to spea...</td>\n",
       "    </tr>\n",
       "    <tr>\n",
       "      <th>3497</th>\n",
       "      <td>I started a refi in November 2021, it's now Ap...</td>\n",
       "    </tr>\n",
       "    <tr>\n",
       "      <th>3498</th>\n",
       "      <td>Flagstar Bank is the worst financial instituti...</td>\n",
       "    </tr>\n",
       "  </tbody>\n",
       "</table>\n",
       "<p>3486 rows × 1 columns</p>\n",
       "</div>"
      ],
      "text/plain": [
       "                                                   text\n",
       "0     Very easy to use to view statements and make o...\n",
       "1     Merrick Bank has always been good to me for bu...\n",
       "2     Times are tough for everyone and I have worked...\n",
       "3     I can not asked for a better Credit Card Compa...\n",
       "4     Updated on 02/10/2023: I was happy to sign for...\n",
       "...                                                 ...\n",
       "3494  I own a property with my sister, and since she...\n",
       "3495  Really don't know where to start but I really ...\n",
       "3496  I have now spent more time trying just to spea...\n",
       "3497  I started a refi in November 2021, it's now Ap...\n",
       "3498  Flagstar Bank is the worst financial instituti...\n",
       "\n",
       "[3486 rows x 1 columns]"
      ]
     },
     "execution_count": 18,
     "metadata": {},
     "output_type": "execute_result"
    }
   ],
   "source": [
    "reviews"
   ]
  },
  {
   "cell_type": "code",
   "execution_count": 19,
   "metadata": {},
   "outputs": [
    {
     "data": {
      "text/html": [
       "<div>\n",
       "<style scoped>\n",
       "    .dataframe tbody tr th:only-of-type {\n",
       "        vertical-align: middle;\n",
       "    }\n",
       "\n",
       "    .dataframe tbody tr th {\n",
       "        vertical-align: top;\n",
       "    }\n",
       "\n",
       "    .dataframe thead th {\n",
       "        text-align: right;\n",
       "    }\n",
       "</style>\n",
       "<table border=\"1\" class=\"dataframe\">\n",
       "  <thead>\n",
       "    <tr style=\"text-align: right;\">\n",
       "      <th></th>\n",
       "      <th>sentiment</th>\n",
       "    </tr>\n",
       "  </thead>\n",
       "  <tbody>\n",
       "    <tr>\n",
       "      <th>0</th>\n",
       "      <td>1</td>\n",
       "    </tr>\n",
       "    <tr>\n",
       "      <th>1</th>\n",
       "      <td>1</td>\n",
       "    </tr>\n",
       "    <tr>\n",
       "      <th>2</th>\n",
       "      <td>1</td>\n",
       "    </tr>\n",
       "    <tr>\n",
       "      <th>3</th>\n",
       "      <td>1</td>\n",
       "    </tr>\n",
       "    <tr>\n",
       "      <th>4</th>\n",
       "      <td>1</td>\n",
       "    </tr>\n",
       "    <tr>\n",
       "      <th>...</th>\n",
       "      <td>...</td>\n",
       "    </tr>\n",
       "    <tr>\n",
       "      <th>3494</th>\n",
       "      <td>0</td>\n",
       "    </tr>\n",
       "    <tr>\n",
       "      <th>3495</th>\n",
       "      <td>0</td>\n",
       "    </tr>\n",
       "    <tr>\n",
       "      <th>3496</th>\n",
       "      <td>0</td>\n",
       "    </tr>\n",
       "    <tr>\n",
       "      <th>3497</th>\n",
       "      <td>0</td>\n",
       "    </tr>\n",
       "    <tr>\n",
       "      <th>3498</th>\n",
       "      <td>0</td>\n",
       "    </tr>\n",
       "  </tbody>\n",
       "</table>\n",
       "<p>3486 rows × 1 columns</p>\n",
       "</div>"
      ],
      "text/plain": [
       "      sentiment\n",
       "0             1\n",
       "1             1\n",
       "2             1\n",
       "3             1\n",
       "4             1\n",
       "...         ...\n",
       "3494          0\n",
       "3495          0\n",
       "3496          0\n",
       "3497          0\n",
       "3498          0\n",
       "\n",
       "[3486 rows x 1 columns]"
      ]
     },
     "execution_count": 19,
     "metadata": {},
     "output_type": "execute_result"
    }
   ],
   "source": [
    "labels"
   ]
  },
  {
   "cell_type": "code",
   "execution_count": 20,
   "metadata": {},
   "outputs": [],
   "source": [
    "import numpy as np\n",
    "import pandas as pd\n",
    "from sklearn.model_selection import train_test_split\n",
    "from tensorflow.keras.preprocessing.text import Tokenizer\n",
    "from tensorflow.keras.preprocessing.sequence import pad_sequences\n",
    "from tensorflow.keras.models import Sequential\n",
    "from tensorflow.keras.layers import Embedding, LSTM, Dense, Dropout\n",
    "from tensorflow.keras.utils import to_categorical"
   ]
  },
  {
   "cell_type": "code",
   "execution_count": 21,
   "metadata": {},
   "outputs": [
    {
     "name": "stdout",
     "output_type": "stream",
     "text": [
      "Epoch 1/5\n"
     ]
    },
    {
     "name": "stderr",
     "output_type": "stream",
     "text": [
      "c:\\Users\\ADMIN\\AppData\\Local\\Programs\\Python\\Python311\\Lib\\site-packages\\keras\\src\\layers\\core\\embedding.py:90: UserWarning: Argument `input_length` is deprecated. Just remove it.\n",
      "  warnings.warn(\n"
     ]
    },
    {
     "name": "stdout",
     "output_type": "stream",
     "text": [
      "\u001b[1m88/88\u001b[0m \u001b[32m━━━━━━━━━━━━━━━━━━━━\u001b[0m\u001b[37m\u001b[0m \u001b[1m3s\u001b[0m 23ms/step - accuracy: 0.7515 - loss: 0.5359 - val_accuracy: 0.8309 - val_loss: 0.3901\n",
      "Epoch 2/5\n",
      "\u001b[1m88/88\u001b[0m \u001b[32m━━━━━━━━━━━━━━━━━━━━\u001b[0m\u001b[37m\u001b[0m \u001b[1m2s\u001b[0m 20ms/step - accuracy: 0.8275 - loss: 0.3655 - val_accuracy: 0.8195 - val_loss: 0.3681\n",
      "Epoch 3/5\n",
      "\u001b[1m88/88\u001b[0m \u001b[32m━━━━━━━━━━━━━━━━━━━━\u001b[0m\u001b[37m\u001b[0m \u001b[1m2s\u001b[0m 21ms/step - accuracy: 0.8681 - loss: 0.2929 - val_accuracy: 0.8338 - val_loss: 0.4166\n",
      "Epoch 4/5\n",
      "\u001b[1m88/88\u001b[0m \u001b[32m━━━━━━━━━━━━━━━━━━━━\u001b[0m\u001b[37m\u001b[0m \u001b[1m2s\u001b[0m 21ms/step - accuracy: 0.8920 - loss: 0.3099 - val_accuracy: 0.9140 - val_loss: 0.2506\n",
      "Epoch 5/5\n",
      "\u001b[1m88/88\u001b[0m \u001b[32m━━━━━━━━━━━━━━━━━━━━\u001b[0m\u001b[37m\u001b[0m \u001b[1m2s\u001b[0m 21ms/step - accuracy: 0.9326 - loss: 0.2342 - val_accuracy: 0.9026 - val_loss: 0.2832\n",
      "Test Accuracy: 95.70%\n"
     ]
    }
   ],
   "source": [
    "# Convert to DataFrame\n",
    "reviews = pd.DataFrame(reviews_data['text'], columns=['text'])\n",
    "labels = pd.DataFrame(reviews_data['sentiment'], columns=['sentiment'])\n",
    "\n",
    "# Split data\n",
    "reviews_train, reviews_temp, labels_train, labels_temp = train_test_split(\n",
    "    reviews, labels, test_size=0.2, random_state=100\n",
    ")\n",
    "reviews_val, reviews_test, labels_val, labels_test = train_test_split(\n",
    "    reviews_temp, labels_temp, test_size=0.5, random_state=100\n",
    ")\n",
    "\n",
    "# Text Tokenization\n",
    "tokenizer = Tokenizer(num_words=5000)\n",
    "tokenizer.fit_on_texts(reviews_train['text'])\n",
    "x_train = tokenizer.texts_to_sequences(reviews_train['text'])\n",
    "x_val = tokenizer.texts_to_sequences(reviews_val['text'])\n",
    "x_test = tokenizer.texts_to_sequences(reviews_test['text'])\n",
    "\n",
    "# Padding sequences\n",
    "max_length = 100  # Adjust based on data\n",
    "x_train = pad_sequences(x_train, maxlen=max_length, padding='post')\n",
    "x_val = pad_sequences(x_val, maxlen=max_length, padding='post')\n",
    "x_test = pad_sequences(x_test, maxlen=max_length, padding='post')\n",
    "\n",
    "# Convert labels to numpy array\n",
    "y_train = labels_train.to_numpy()\n",
    "y_val = labels_val.to_numpy()\n",
    "y_test = labels_test.to_numpy()\n",
    "\n",
    "# Define the LSTM Model\n",
    "modelLSTM = Sequential([\n",
    "    Embedding(input_dim=5000, output_dim=128, input_length=max_length),\n",
    "    LSTM(128, return_sequences=False),\n",
    "    Dropout(0.5),\n",
    "    Dense(1, activation='sigmoid')  # Use sigmoid for binary classification\n",
    "])\n",
    "\n",
    "# Compile the Model\n",
    "modelLSTM.compile(optimizer='adam', loss='binary_crossentropy', metrics=['accuracy'])\n",
    "\n",
    "# Train the Model\n",
    "history = modelLSTM.fit(\n",
    "    x_train, y_train,\n",
    "    validation_data=(x_val, y_val),\n",
    "    epochs=5,\n",
    "    batch_size=32,\n",
    "    verbose=1\n",
    ")\n",
    "\n",
    "# Evaluate on Test Set\n",
    "test_loss, test_accuracy = modelLSTM.evaluate(x_test, y_test, verbose=0)\n",
    "print(f\"Test Accuracy: {accuracy * 100:.2f}%\")"
   ]
  },
  {
   "cell_type": "code",
   "execution_count": 22,
   "metadata": {},
   "outputs": [
    {
     "data": {
      "image/png": "[encoded data removed]",
      "text/plain": [
       "<Figure size 1200x400 with 2 Axes>"
      ]
     },
     "metadata": {},
     "output_type": "display_data"
    }
   ],
   "source": [
    "# 5. (Tùy chọn) Vẽ đồ thị accuracy và loss\n",
    "import matplotlib.pyplot as plt\n",
    "\n",
    "plt.figure(figsize=(12, 4))\n",
    "plt.subplot(1, 2, 1)\n",
    "plt.plot(history.history['accuracy'], label='Train Accuracy')\n",
    "plt.plot(history.history['val_accuracy'], label='Validation Accuracy')\n",
    "plt.legend()\n",
    "plt.title('Accuracy')\n",
    "\n",
    "plt.subplot(1, 2, 2)\n",
    "plt.plot(history.history['loss'], label='Train Loss')\n",
    "plt.plot(history.history['val_loss'], label='Validation Loss')\n",
    "plt.legend()\n",
    "plt.title('Loss')\n",
    "\n",
    "plt.show()"
   ]
  },
  {
   "cell_type": "markdown",
   "metadata": {},
   "source": [
    "## 5. Combined CNN and LSTM Model Training\n",
    "Systematically divided into three sets: training (80%), and test (20%). Training set instructs the combined of CNN and LSTM, enabling it to learn patterns and relationships within the data. "
   ]
  },
  {
   "cell_type": "code",
   "execution_count": 23,
   "metadata": {},
   "outputs": [],
   "source": [
    "# Define input variable and target variable\n",
    "reviews = pd.DataFrame(reviews_data['text'])\n",
    "labels = pd.DataFrame(reviews_data['sentiment'])\n",
    "\n",
    "# Split the dataset into 3 parts, including training set (80%), validation set (10%), and test set (10%)\n",
    "reviews_train, reviews_temp, labels_train, labels_temp = train_test_split(reviews, labels, test_size=0.2, random_state=100)\n",
    "reviews_val, reviews_test, labels_val, labels_test = train_test_split(reviews_temp, labels_temp, test_size=0.5, random_state=100)"
   ]
  },
  {
   "cell_type": "code",
   "execution_count": 24,
   "metadata": {},
   "outputs": [
    {
     "data": {
      "text/html": [
       "<div>\n",
       "<style scoped>\n",
       "    .dataframe tbody tr th:only-of-type {\n",
       "        vertical-align: middle;\n",
       "    }\n",
       "\n",
       "    .dataframe tbody tr th {\n",
       "        vertical-align: top;\n",
       "    }\n",
       "\n",
       "    .dataframe thead th {\n",
       "        text-align: right;\n",
       "    }\n",
       "</style>\n",
       "<table border=\"1\" class=\"dataframe\">\n",
       "  <thead>\n",
       "    <tr style=\"text-align: right;\">\n",
       "      <th></th>\n",
       "      <th>text</th>\n",
       "    </tr>\n",
       "  </thead>\n",
       "  <tbody>\n",
       "    <tr>\n",
       "      <th>0</th>\n",
       "      <td>Very easy to use to view statements and make o...</td>\n",
       "    </tr>\n",
       "    <tr>\n",
       "      <th>1</th>\n",
       "      <td>Merrick Bank has always been good to me for bu...</td>\n",
       "    </tr>\n",
       "    <tr>\n",
       "      <th>2</th>\n",
       "      <td>Times are tough for everyone and I have worked...</td>\n",
       "    </tr>\n",
       "    <tr>\n",
       "      <th>3</th>\n",
       "      <td>I can not asked for a better Credit Card Compa...</td>\n",
       "    </tr>\n",
       "    <tr>\n",
       "      <th>4</th>\n",
       "      <td>Updated on 02/10/2023: I was happy to sign for...</td>\n",
       "    </tr>\n",
       "    <tr>\n",
       "      <th>...</th>\n",
       "      <td>...</td>\n",
       "    </tr>\n",
       "    <tr>\n",
       "      <th>3494</th>\n",
       "      <td>I own a property with my sister, and since she...</td>\n",
       "    </tr>\n",
       "    <tr>\n",
       "      <th>3495</th>\n",
       "      <td>Really don't know where to start but I really ...</td>\n",
       "    </tr>\n",
       "    <tr>\n",
       "      <th>3496</th>\n",
       "      <td>I have now spent more time trying just to spea...</td>\n",
       "    </tr>\n",
       "    <tr>\n",
       "      <th>3497</th>\n",
       "      <td>I started a refi in November 2021, it's now Ap...</td>\n",
       "    </tr>\n",
       "    <tr>\n",
       "      <th>3498</th>\n",
       "      <td>Flagstar Bank is the worst financial instituti...</td>\n",
       "    </tr>\n",
       "  </tbody>\n",
       "</table>\n",
       "<p>3486 rows × 1 columns</p>\n",
       "</div>"
      ],
      "text/plain": [
       "                                                   text\n",
       "0     Very easy to use to view statements and make o...\n",
       "1     Merrick Bank has always been good to me for bu...\n",
       "2     Times are tough for everyone and I have worked...\n",
       "3     I can not asked for a better Credit Card Compa...\n",
       "4     Updated on 02/10/2023: I was happy to sign for...\n",
       "...                                                 ...\n",
       "3494  I own a property with my sister, and since she...\n",
       "3495  Really don't know where to start but I really ...\n",
       "3496  I have now spent more time trying just to spea...\n",
       "3497  I started a refi in November 2021, it's now Ap...\n",
       "3498  Flagstar Bank is the worst financial instituti...\n",
       "\n",
       "[3486 rows x 1 columns]"
      ]
     },
     "execution_count": 24,
     "metadata": {},
     "output_type": "execute_result"
    }
   ],
   "source": [
    "reviews"
   ]
  },
  {
   "cell_type": "code",
   "execution_count": 25,
   "metadata": {},
   "outputs": [
    {
     "data": {
      "text/html": [
       "<div>\n",
       "<style scoped>\n",
       "    .dataframe tbody tr th:only-of-type {\n",
       "        vertical-align: middle;\n",
       "    }\n",
       "\n",
       "    .dataframe tbody tr th {\n",
       "        vertical-align: top;\n",
       "    }\n",
       "\n",
       "    .dataframe thead th {\n",
       "        text-align: right;\n",
       "    }\n",
       "</style>\n",
       "<table border=\"1\" class=\"dataframe\">\n",
       "  <thead>\n",
       "    <tr style=\"text-align: right;\">\n",
       "      <th></th>\n",
       "      <th>sentiment</th>\n",
       "    </tr>\n",
       "  </thead>\n",
       "  <tbody>\n",
       "    <tr>\n",
       "      <th>0</th>\n",
       "      <td>1</td>\n",
       "    </tr>\n",
       "    <tr>\n",
       "      <th>1</th>\n",
       "      <td>1</td>\n",
       "    </tr>\n",
       "    <tr>\n",
       "      <th>2</th>\n",
       "      <td>1</td>\n",
       "    </tr>\n",
       "    <tr>\n",
       "      <th>3</th>\n",
       "      <td>1</td>\n",
       "    </tr>\n",
       "    <tr>\n",
       "      <th>4</th>\n",
       "      <td>1</td>\n",
       "    </tr>\n",
       "    <tr>\n",
       "      <th>...</th>\n",
       "      <td>...</td>\n",
       "    </tr>\n",
       "    <tr>\n",
       "      <th>3494</th>\n",
       "      <td>0</td>\n",
       "    </tr>\n",
       "    <tr>\n",
       "      <th>3495</th>\n",
       "      <td>0</td>\n",
       "    </tr>\n",
       "    <tr>\n",
       "      <th>3496</th>\n",
       "      <td>0</td>\n",
       "    </tr>\n",
       "    <tr>\n",
       "      <th>3497</th>\n",
       "      <td>0</td>\n",
       "    </tr>\n",
       "    <tr>\n",
       "      <th>3498</th>\n",
       "      <td>0</td>\n",
       "    </tr>\n",
       "  </tbody>\n",
       "</table>\n",
       "<p>3486 rows × 1 columns</p>\n",
       "</div>"
      ],
      "text/plain": [
       "      sentiment\n",
       "0             1\n",
       "1             1\n",
       "2             1\n",
       "3             1\n",
       "4             1\n",
       "...         ...\n",
       "3494          0\n",
       "3495          0\n",
       "3496          0\n",
       "3497          0\n",
       "3498          0\n",
       "\n",
       "[3486 rows x 1 columns]"
      ]
     },
     "execution_count": 25,
     "metadata": {},
     "output_type": "execute_result"
    }
   ],
   "source": [
    "labels"
   ]
  },
  {
   "cell_type": "code",
   "execution_count": null,
   "metadata": {},
   "outputs": [
    {
     "name": "stdout",
     "output_type": "stream",
     "text": [
      "Epoch 1/10\n"
     ]
    },
    {
     "name": "stderr",
     "output_type": "stream",
     "text": [
      "c:\\Users\\ADMIN\\AppData\\Local\\Programs\\Python\\Python311\\Lib\\site-packages\\keras\\src\\layers\\core\\embedding.py:90: UserWarning: Argument `input_length` is deprecated. Just remove it.\n",
      "  warnings.warn(\n"
     ]
    },
    {
     "name": "stdout",
     "output_type": "stream",
     "text": [
      "\u001b[1m44/44\u001b[0m \u001b[32m━━━━━━━━━━━━━━━━━━━━\u001b[0m\u001b[37m\u001b[0m \u001b[1m2s\u001b[0m 23ms/step - accuracy: 0.7408 - loss: 0.5111 - val_accuracy: 0.8453 - val_loss: 0.3628\n",
      "Epoch 2/10\n",
      "\u001b[1m44/44\u001b[0m \u001b[32m━━━━━━━━━━━━━━━━━━━━\u001b[0m\u001b[37m\u001b[0m \u001b[1m1s\u001b[0m 21ms/step - accuracy: 0.8886 - loss: 0.2680 - val_accuracy: 0.9083 - val_loss: 0.2300\n",
      "Epoch 3/10\n",
      "\u001b[1m44/44\u001b[0m \u001b[32m━━━━━━━━━━━━━━━━━━━━\u001b[0m\u001b[37m\u001b[0m \u001b[1m1s\u001b[0m 20ms/step - accuracy: 0.9704 - loss: 0.1187 - val_accuracy: 0.9112 - val_loss: 0.3155\n",
      "Epoch 4/10\n",
      "\u001b[1m44/44\u001b[0m \u001b[32m━━━━━━━━━━━━━━━━━━━━\u001b[0m\u001b[37m\u001b[0m \u001b[1m1s\u001b[0m 21ms/step - accuracy: 0.9909 - loss: 0.0374 - val_accuracy: 0.9140 - val_loss: 0.3795\n",
      "Epoch 5/10\n",
      "\u001b[1m44/44\u001b[0m \u001b[32m━━━━━━━━━━━━━━━━━━━━\u001b[0m\u001b[37m\u001b[0m \u001b[1m1s\u001b[0m 21ms/step - accuracy: 0.9968 - loss: 0.0185 - val_accuracy: 0.9169 - val_loss: 0.3871\n",
      "Epoch 6/10\n",
      "\u001b[1m44/44\u001b[0m \u001b[32m━━━━━━━━━━━━━━━━━━━━\u001b[0m\u001b[37m\u001b[0m \u001b[1m1s\u001b[0m 21ms/step - accuracy: 0.9946 - loss: 0.0226 - val_accuracy: 0.9054 - val_loss: 0.4782\n",
      "Epoch 7/10\n",
      "\u001b[1m44/44\u001b[0m \u001b[32m━━━━━━━━━━━━━━━━━━━━\u001b[0m\u001b[37m\u001b[0m \u001b[1m1s\u001b[0m 22ms/step - accuracy: 0.9958 - loss: 0.0181 - val_accuracy: 0.9140 - val_loss: 0.3098\n",
      "Epoch 8/10\n",
      "\u001b[1m44/44\u001b[0m \u001b[32m━━━━━━━━━━━━━━━━━━━━\u001b[0m\u001b[37m\u001b[0m \u001b[1m1s\u001b[0m 22ms/step - accuracy: 0.9924 - loss: 0.0256 - val_accuracy: 0.9169 - val_loss: 0.4925\n",
      "Epoch 9/10\n",
      "\u001b[1m44/44\u001b[0m \u001b[32m━━━━━━━━━━━━━━━━━━━━\u001b[0m\u001b[37m\u001b[0m \u001b[1m1s\u001b[0m 21ms/step - accuracy: 0.9988 - loss: 0.0074 - val_accuracy: 0.9026 - val_loss: 0.5296\n",
      "Epoch 10/10\n",
      "\u001b[1m44/44\u001b[0m \u001b[32m━━━━━━━━━━━━━━━━━━━━\u001b[0m\u001b[37m\u001b[0m \u001b[1m1s\u001b[0m 22ms/step - accuracy: 0.9985 - loss: 0.0044 - val_accuracy: 0.8968 - val_loss: 0.5878\n",
      "\u001b[1m11/11\u001b[0m \u001b[32m━━━━━━━━━━━━━━━━━━━━\u001b[0m\u001b[37m\u001b[0m \u001b[1m0s\u001b[0m 7ms/step - accuracy: 0.9474 - loss: 0.3654\n",
      "Test Accuracy: 95.70%\n"
     ]
    }
   ],
   "source": [
    "import numpy as np\n",
    "import pandas as pd\n",
    "from sklearn.model_selection import train_test_split\n",
    "from tensorflow.keras.preprocessing.text import Tokenizer\n",
    "from tensorflow.keras.preprocessing.sequence import pad_sequences\n",
    "from tensorflow.keras.utils import to_categorical\n",
    "from tensorflow.keras.models import Sequential\n",
    "from tensorflow.keras.layers import Embedding, Conv1D, MaxPooling1D, LSTM, Dense, Dropout\n",
    "\n",
    "reviews = pd.DataFrame(reviews_data['text'], columns=['text'])\n",
    "labels = pd.DataFrame(reviews_data['sentiment'], columns=['sentiment'])\n",
    "\n",
    "reviews_train, reviews_temp, labels_train, labels_temp = train_test_split(\n",
    "    reviews, labels, test_size=0.2, random_state=100\n",
    ")\n",
    "reviews_val, reviews_test, labels_val, labels_test = train_test_split(\n",
    "    reviews_temp, labels_temp, test_size=0.5, random_state=100\n",
    ")\n",
    "\n",
    "max_words = 10000 \n",
    "max_len = 100     \n",
    "\n",
    "tokenizer = Tokenizer(num_words=max_words)\n",
    "tokenizer.fit_on_texts(reviews_train['text'])\n",
    "\n",
    "X_train = tokenizer.texts_to_sequences(reviews_train['text'])\n",
    "X_val = tokenizer.texts_to_sequences(reviews_val['text'])\n",
    "X_test = tokenizer.texts_to_sequences(reviews_test['text'])\n",
    "\n",
    "X_train = pad_sequences(X_train, maxlen=max_len, padding='post')\n",
    "X_val = pad_sequences(X_val, maxlen=max_len, padding='post')\n",
    "X_test = pad_sequences(X_test, maxlen=max_len, padding='post')\n",
    "\n",
    "y_train = to_categorical(labels_train)\n",
    "y_val = to_categorical(labels_val)\n",
    "y_test = to_categorical(labels_test)\n",
    "\n",
    "embedding_dim = 100  \n",
    "filters = 128        \n",
    "kernel_size = 5      \n",
    "lstm_units = 128     \n",
    "modelCNN_LSTM = Sequential([\n",
    "    Embedding(input_dim=max_words, output_dim=embedding_dim, input_length=max_len),\n",
    "\n",
    "    Conv1D(filters=filters, kernel_size=kernel_size, activation='relu'),\n",
    "    MaxPooling1D(pool_size=2),\n",
    "\n",
    "    LSTM(lstm_units, return_sequences=False),\n",
    "\n",
    "    Dropout(0.5),\n",
    "    Dense(128, activation='relu'),\n",
    "    Dropout(0.5),\n",
    "    Dense(y_train.shape[1], activation='softmax')  \n",
    "])\n",
    "\n",
    "modelCNN_LSTM.compile(optimizer='adam', loss='categorical_crossentropy', metrics=['accuracy'])\n",
    "\n",
    "history = modelCNN_LSTM.fit(\n",
    "    X_train, y_train,\n",
    "    epochs=10,\n",
    "    batch_size=64,\n",
    "    validation_data=(X_val, y_val)\n",
    ")\n",
    "\n",
    "test_loss, test_accuracy = modelCNN_LSTM.evaluate(X_test, y_test)\n",
    "print(f\"Test Accuracy: {accuracy * 100:.2f}%\")\n"
   ]
  },
  {
   "cell_type": "code",
   "execution_count": 27,
   "metadata": {},
   "outputs": [
    {
     "data": {
      "image/png": "[encoded data removed]",
      "text/plain": [
       "<Figure size 1200x400 with 2 Axes>"
      ]
     },
     "metadata": {},
     "output_type": "display_data"
    }
   ],
   "source": [
    "import matplotlib.pyplot as plt\n",
    "\n",
    "plt.figure(figsize=(12, 4))\n",
    "plt.subplot(1, 2, 1)\n",
    "plt.plot(history.history['accuracy'], label='Train Accuracy')\n",
    "plt.plot(history.history['val_accuracy'], label='Validation Accuracy')\n",
    "plt.legend()\n",
    "plt.title('Accuracy')\n",
    "\n",
    "plt.subplot(1, 2, 2)\n",
    "plt.plot(history.history['loss'], label='Train Loss')\n",
    "plt.plot(history.history['val_loss'], label='Validation Loss')\n",
    "plt.legend()\n",
    "plt.title('Loss')\n",
    "\n",
    "plt.show()"
   ]
  },
  {
   "cell_type": "markdown",
   "metadata": {
    "id": "St89v63KxRWJ"
   },
   "source": [
    "## 6. Tokenization and Model Training\n",
    "Systematically divided into three sets: training (80%), validation (10%), and test (10%). Training set instructs the BERT model, enabling it to learn patterns and relationships within the data. Validation set is crucial for fine-tuning the model, experimenting with hyperparameter configurations. Test set is for evaluating the model performance."
   ]
  },
  {
   "cell_type": "markdown",
   "metadata": {
    "id": "Gw31_TJO7Y5U"
   },
   "source": [
    "**Split the datset into 3 parts: Training set, Valiation set, Test set**"
   ]
  },
  {
   "cell_type": "code",
   "execution_count": null,
   "metadata": {
    "executionInfo": {
     "elapsed": 9,
     "status": "ok",
     "timestamp": 1701409900393,
     "user": {
      "displayName": "Thanapoom Phatthanaphan",
      "userId": "06703220080806313983"
     },
     "user_tz": 300
    },
    "id": "huycYjR-0hea"
   },
   "outputs": [],
   "source": [
    "reviews = pd.DataFrame(reviews_data['text'])\n",
    "labels = pd.DataFrame(reviews_data['sentiment'])\n",
    "\n",
    "reviews_train, reviews_temp, labels_train, labels_temp = train_test_split(reviews, labels, test_size=0.2, random_state=100)\n",
    "reviews_val, reviews_test, labels_val, labels_test = train_test_split(reviews_temp, labels_temp, test_size=0.5, random_state=100)"
   ]
  },
  {
   "cell_type": "code",
   "execution_count": 29,
   "metadata": {
    "colab": {
     "base_uri": "https://localhost:8080/",
     "height": 424
    },
    "executionInfo": {
     "elapsed": 9,
     "status": "ok",
     "timestamp": 1701409900393,
     "user": {
      "displayName": "Thanapoom Phatthanaphan",
      "userId": "06703220080806313983"
     },
     "user_tz": 300
    },
    "id": "eYA-tVPmLA6M",
    "outputId": "b05f7d45-3491-4d6b-89e6-3d77ac7d50db"
   },
   "outputs": [
    {
     "data": {
      "text/html": [
       "<div>\n",
       "<style scoped>\n",
       "    .dataframe tbody tr th:only-of-type {\n",
       "        vertical-align: middle;\n",
       "    }\n",
       "\n",
       "    .dataframe tbody tr th {\n",
       "        vertical-align: top;\n",
       "    }\n",
       "\n",
       "    .dataframe thead th {\n",
       "        text-align: right;\n",
       "    }\n",
       "</style>\n",
       "<table border=\"1\" class=\"dataframe\">\n",
       "  <thead>\n",
       "    <tr style=\"text-align: right;\">\n",
       "      <th></th>\n",
       "      <th>text</th>\n",
       "    </tr>\n",
       "  </thead>\n",
       "  <tbody>\n",
       "    <tr>\n",
       "      <th>0</th>\n",
       "      <td>Very easy to use to view statements and make o...</td>\n",
       "    </tr>\n",
       "    <tr>\n",
       "      <th>1</th>\n",
       "      <td>Merrick Bank has always been good to me for bu...</td>\n",
       "    </tr>\n",
       "    <tr>\n",
       "      <th>2</th>\n",
       "      <td>Times are tough for everyone and I have worked...</td>\n",
       "    </tr>\n",
       "    <tr>\n",
       "      <th>3</th>\n",
       "      <td>I can not asked for a better Credit Card Compa...</td>\n",
       "    </tr>\n",
       "    <tr>\n",
       "      <th>4</th>\n",
       "      <td>Updated on 02/10/2023: I was happy to sign for...</td>\n",
       "    </tr>\n",
       "    <tr>\n",
       "      <th>...</th>\n",
       "      <td>...</td>\n",
       "    </tr>\n",
       "    <tr>\n",
       "      <th>3494</th>\n",
       "      <td>I own a property with my sister, and since she...</td>\n",
       "    </tr>\n",
       "    <tr>\n",
       "      <th>3495</th>\n",
       "      <td>Really don't know where to start but I really ...</td>\n",
       "    </tr>\n",
       "    <tr>\n",
       "      <th>3496</th>\n",
       "      <td>I have now spent more time trying just to spea...</td>\n",
       "    </tr>\n",
       "    <tr>\n",
       "      <th>3497</th>\n",
       "      <td>I started a refi in November 2021, it's now Ap...</td>\n",
       "    </tr>\n",
       "    <tr>\n",
       "      <th>3498</th>\n",
       "      <td>Flagstar Bank is the worst financial instituti...</td>\n",
       "    </tr>\n",
       "  </tbody>\n",
       "</table>\n",
       "<p>3486 rows × 1 columns</p>\n",
       "</div>"
      ],
      "text/plain": [
       "                                                   text\n",
       "0     Very easy to use to view statements and make o...\n",
       "1     Merrick Bank has always been good to me for bu...\n",
       "2     Times are tough for everyone and I have worked...\n",
       "3     I can not asked for a better Credit Card Compa...\n",
       "4     Updated on 02/10/2023: I was happy to sign for...\n",
       "...                                                 ...\n",
       "3494  I own a property with my sister, and since she...\n",
       "3495  Really don't know where to start but I really ...\n",
       "3496  I have now spent more time trying just to spea...\n",
       "3497  I started a refi in November 2021, it's now Ap...\n",
       "3498  Flagstar Bank is the worst financial instituti...\n",
       "\n",
       "[3486 rows x 1 columns]"
      ]
     },
     "execution_count": 29,
     "metadata": {},
     "output_type": "execute_result"
    }
   ],
   "source": [
    "reviews"
   ]
  },
  {
   "cell_type": "code",
   "execution_count": 30,
   "metadata": {
    "colab": {
     "base_uri": "https://localhost:8080/",
     "height": 424
    },
    "executionInfo": {
     "elapsed": 8,
     "status": "ok",
     "timestamp": 1701409900393,
     "user": {
      "displayName": "Thanapoom Phatthanaphan",
      "userId": "06703220080806313983"
     },
     "user_tz": 300
    },
    "id": "XHddFf52LCk_",
    "outputId": "d0a86038-3edb-4c17-81b6-84ec04bc479b"
   },
   "outputs": [
    {
     "data": {
      "text/html": [
       "<div>\n",
       "<style scoped>\n",
       "    .dataframe tbody tr th:only-of-type {\n",
       "        vertical-align: middle;\n",
       "    }\n",
       "\n",
       "    .dataframe tbody tr th {\n",
       "        vertical-align: top;\n",
       "    }\n",
       "\n",
       "    .dataframe thead th {\n",
       "        text-align: right;\n",
       "    }\n",
       "</style>\n",
       "<table border=\"1\" class=\"dataframe\">\n",
       "  <thead>\n",
       "    <tr style=\"text-align: right;\">\n",
       "      <th></th>\n",
       "      <th>sentiment</th>\n",
       "    </tr>\n",
       "  </thead>\n",
       "  <tbody>\n",
       "    <tr>\n",
       "      <th>0</th>\n",
       "      <td>1</td>\n",
       "    </tr>\n",
       "    <tr>\n",
       "      <th>1</th>\n",
       "      <td>1</td>\n",
       "    </tr>\n",
       "    <tr>\n",
       "      <th>2</th>\n",
       "      <td>1</td>\n",
       "    </tr>\n",
       "    <tr>\n",
       "      <th>3</th>\n",
       "      <td>1</td>\n",
       "    </tr>\n",
       "    <tr>\n",
       "      <th>4</th>\n",
       "      <td>1</td>\n",
       "    </tr>\n",
       "    <tr>\n",
       "      <th>...</th>\n",
       "      <td>...</td>\n",
       "    </tr>\n",
       "    <tr>\n",
       "      <th>3494</th>\n",
       "      <td>0</td>\n",
       "    </tr>\n",
       "    <tr>\n",
       "      <th>3495</th>\n",
       "      <td>0</td>\n",
       "    </tr>\n",
       "    <tr>\n",
       "      <th>3496</th>\n",
       "      <td>0</td>\n",
       "    </tr>\n",
       "    <tr>\n",
       "      <th>3497</th>\n",
       "      <td>0</td>\n",
       "    </tr>\n",
       "    <tr>\n",
       "      <th>3498</th>\n",
       "      <td>0</td>\n",
       "    </tr>\n",
       "  </tbody>\n",
       "</table>\n",
       "<p>3486 rows × 1 columns</p>\n",
       "</div>"
      ],
      "text/plain": [
       "      sentiment\n",
       "0             1\n",
       "1             1\n",
       "2             1\n",
       "3             1\n",
       "4             1\n",
       "...         ...\n",
       "3494          0\n",
       "3495          0\n",
       "3496          0\n",
       "3497          0\n",
       "3498          0\n",
       "\n",
       "[3486 rows x 1 columns]"
      ]
     },
     "execution_count": 30,
     "metadata": {},
     "output_type": "execute_result"
    }
   ],
   "source": [
    "labels"
   ]
  },
  {
   "cell_type": "markdown",
   "metadata": {
    "id": "F7TKg0It7fh8"
   },
   "source": [
    "**Tokenize and encode the data using the BERT tokenizer**"
   ]
  },
  {
   "cell_type": "code",
   "execution_count": null,
   "metadata": {
    "executionInfo": {
     "elapsed": 24204,
     "status": "ok",
     "timestamp": 1701409924590,
     "user": {
      "displayName": "Thanapoom Phatthanaphan",
      "userId": "06703220080806313983"
     },
     "user_tz": 300
    },
    "id": "i_UFQ4cx1tmk"
   },
   "outputs": [
    {
     "name": "stderr",
     "output_type": "stream",
     "text": [
      "c:\\Users\\ADMIN\\AppData\\Local\\Programs\\Python\\Python311\\Lib\\site-packages\\huggingface_hub\\file_download.py:797: FutureWarning: `resume_download` is deprecated and will be removed in version 1.0.0. Downloads always resume when possible. If you want to force a new download, use `force_download=True`.\n",
      "  warnings.warn(\n"
     ]
    }
   ],
   "source": [
    "# Load pre-trained BERT tokenizer\n",
    "tokenizer = BertTokenizer.from_pretrained('bert-base-uncased')\n",
    "\n",
    "# Tokenize and encode the sentences for the training set, validation set, and test set\n",
    "max_len = 256\n",
    "train_encodings = tokenizer(reviews_train['text'].tolist(), padding=True, truncation=True, return_tensors='pt')\n",
    "val_encodings = tokenizer(reviews_val['text'].tolist(), padding=True, truncation=True, return_tensors='pt')\n",
    "test_encodings = tokenizer(reviews_test['text'].tolist(), padding=True, truncation=True, return_tensors='pt')\n",
    "\n",
    "# Convert sentiment labels to PyTorch tensors\n",
    "train_labels = torch.tensor(labels_train['sentiment'].tolist())\n",
    "val_labels = torch.tensor(labels_val['sentiment'].tolist())\n",
    "test_labels = torch.tensor(labels_test['sentiment'].tolist())"
   ]
  },
  {
   "cell_type": "code",
   "execution_count": 32,
   "metadata": {
    "colab": {
     "base_uri": "https://localhost:8080/"
    },
    "executionInfo": {
     "elapsed": 25,
     "status": "ok",
     "timestamp": 1701409924590,
     "user": {
      "displayName": "Thanapoom Phatthanaphan",
      "userId": "06703220080806313983"
     },
     "user_tz": 300
    },
    "id": "_fusrRgQE1pt",
    "outputId": "5ff8630a-fd69-4855-98ff-9873cecf2c30"
   },
   "outputs": [
    {
     "data": {
      "text/plain": [
       "{'input_ids': tensor([[ 101, 2699, 2000,  ...,    0,    0,    0],\n",
       "        [ 101, 1045, 2052,  ...,    0,    0,    0],\n",
       "        [ 101, 1996, 2924,  ...,    0,    0,    0],\n",
       "        ...,\n",
       "        [ 101, 2348, 1010,  ...,    0,    0,    0],\n",
       "        [ 101, 2149, 2924,  ...,    0,    0,    0],\n",
       "        [ 101, 1045, 2031,  ...,    0,    0,    0]]), 'token_type_ids': tensor([[0, 0, 0,  ..., 0, 0, 0],\n",
       "        [0, 0, 0,  ..., 0, 0, 0],\n",
       "        [0, 0, 0,  ..., 0, 0, 0],\n",
       "        ...,\n",
       "        [0, 0, 0,  ..., 0, 0, 0],\n",
       "        [0, 0, 0,  ..., 0, 0, 0],\n",
       "        [0, 0, 0,  ..., 0, 0, 0]]), 'attention_mask': tensor([[1, 1, 1,  ..., 0, 0, 0],\n",
       "        [1, 1, 1,  ..., 0, 0, 0],\n",
       "        [1, 1, 1,  ..., 0, 0, 0],\n",
       "        ...,\n",
       "        [1, 1, 1,  ..., 0, 0, 0],\n",
       "        [1, 1, 1,  ..., 0, 0, 0],\n",
       "        [1, 1, 1,  ..., 0, 0, 0]])}"
      ]
     },
     "execution_count": 32,
     "metadata": {},
     "output_type": "execute_result"
    }
   ],
   "source": [
    "train_encodings"
   ]
  },
  {
   "cell_type": "markdown",
   "metadata": {
    "id": "OEcrRFbY7kF-"
   },
   "source": [
    "**Create DataLoader**"
   ]
  },
  {
   "cell_type": "code",
   "execution_count": 33,
   "metadata": {
    "executionInfo": {
     "elapsed": 24,
     "status": "ok",
     "timestamp": 1701409924591,
     "user": {
      "displayName": "Thanapoom Phatthanaphan",
      "userId": "06703220080806313983"
     },
     "user_tz": 300
    },
    "id": "MQQTnF6qx3L5"
   },
   "outputs": [],
   "source": [
    "# Define datasets using TensorDataset, containing input_ids, attention_mask, and labels\n",
    "train_dataset = TensorDataset(train_encodings['input_ids'], train_encodings['attention_mask'], train_labels)\n",
    "val_dataset = TensorDataset(val_encodings['input_ids'], val_encodings['attention_mask'], val_labels)\n",
    "test_dataset = TensorDataset(test_encodings['input_ids'], test_encodings['attention_mask'], test_labels)\n",
    "\n",
    "# Define batch size\n",
    "batch_size = 32\n",
    "\n",
    "# Create DataLoader for training set , validation set, and test set\n",
    "train_loader = DataLoader(train_dataset, batch_size=batch_size, shuffle=True)\n",
    "val_loader = DataLoader(val_dataset, batch_size=batch_size, shuffle=False)\n",
    "test_loader = DataLoader(test_dataset, batch_size=batch_size, shuffle=False)"
   ]
  },
  {
   "cell_type": "code",
   "execution_count": 34,
   "metadata": {
    "colab": {
     "base_uri": "https://localhost:8080/"
    },
    "executionInfo": {
     "elapsed": 970,
     "status": "ok",
     "timestamp": 1701409925538,
     "user": {
      "displayName": "Thanapoom Phatthanaphan",
      "userId": "06703220080806313983"
     },
     "user_tz": 300
    },
    "id": "oeg7OJvcynep",
    "outputId": "50573981-93a1-4a15-e40a-fca3f1da33f3"
   },
   "outputs": [
    {
     "name": "stderr",
     "output_type": "stream",
     "text": [
      "Some weights of BertForSequenceClassification were not initialized from the model checkpoint at bert-base-uncased and are newly initialized: ['classifier.bias', 'classifier.weight']\n",
      "You should probably TRAIN this model on a down-stream task to be able to use it for predictions and inference.\n"
     ]
    }
   ],
   "source": [
    "# Load Pre-trained BERT Model\n",
    "model = BertForSequenceClassification.from_pretrained('bert-base-uncased', num_labels=2)"
   ]
  },
  {
   "cell_type": "markdown",
   "metadata": {
    "id": "MButFS9q6wxN"
   },
   "source": [
    "**Fine-Tuning BERT model using Validation Set**"
   ]
  },
  {
   "cell_type": "code",
   "execution_count": 35,
   "metadata": {},
   "outputs": [
    {
     "data": {
      "text/plain": [
       "'|===========================================================================|\\n|                  PyTorch CUDA memory summary, device ID 0                 |\\n|---------------------------------------------------------------------------|\\n|            CUDA OOMs: 0            |        cudaMalloc retries: 0         |\\n|===========================================================================|\\n|        Metric         | Cur Usage  | Peak Usage | Tot Alloc  | Tot Freed  |\\n|---------------------------------------------------------------------------|\\n| Allocated memory      |      0 B   |      0 B   |      0 B   |      0 B   |\\n|       from large pool |      0 B   |      0 B   |      0 B   |      0 B   |\\n|       from small pool |      0 B   |      0 B   |      0 B   |      0 B   |\\n|---------------------------------------------------------------------------|\\n| Active memory         |      0 B   |      0 B   |      0 B   |      0 B   |\\n|       from large pool |      0 B   |      0 B   |      0 B   |      0 B   |\\n|       from small pool |      0 B   |      0 B   |      0 B   |      0 B   |\\n|---------------------------------------------------------------------------|\\n| Requested memory      |      0 B   |      0 B   |      0 B   |      0 B   |\\n|       from large pool |      0 B   |      0 B   |      0 B   |      0 B   |\\n|       from small pool |      0 B   |      0 B   |      0 B   |      0 B   |\\n|---------------------------------------------------------------------------|\\n| GPU reserved memory   |      0 B   |      0 B   |      0 B   |      0 B   |\\n|       from large pool |      0 B   |      0 B   |      0 B   |      0 B   |\\n|       from small pool |      0 B   |      0 B   |      0 B   |      0 B   |\\n|---------------------------------------------------------------------------|\\n| Non-releasable memory |      0 B   |      0 B   |      0 B   |      0 B   |\\n|       from large pool |      0 B   |      0 B   |      0 B   |      0 B   |\\n|       from small pool |      0 B   |      0 B   |      0 B   |      0 B   |\\n|---------------------------------------------------------------------------|\\n| Allocations           |       0    |       0    |       0    |       0    |\\n|       from large pool |       0    |       0    |       0    |       0    |\\n|       from small pool |       0    |       0    |       0    |       0    |\\n|---------------------------------------------------------------------------|\\n| Active allocs         |       0    |       0    |       0    |       0    |\\n|       from large pool |       0    |       0    |       0    |       0    |\\n|       from small pool |       0    |       0    |       0    |       0    |\\n|---------------------------------------------------------------------------|\\n| GPU reserved segments |       0    |       0    |       0    |       0    |\\n|       from large pool |       0    |       0    |       0    |       0    |\\n|       from small pool |       0    |       0    |       0    |       0    |\\n|---------------------------------------------------------------------------|\\n| Non-releasable allocs |       0    |       0    |       0    |       0    |\\n|       from large pool |       0    |       0    |       0    |       0    |\\n|       from small pool |       0    |       0    |       0    |       0    |\\n|---------------------------------------------------------------------------|\\n| Oversize allocations  |       0    |       0    |       0    |       0    |\\n|---------------------------------------------------------------------------|\\n| Oversize GPU segments |       0    |       0    |       0    |       0    |\\n|===========================================================================|\\n'"
      ]
     },
     "execution_count": 35,
     "metadata": {},
     "output_type": "execute_result"
    }
   ],
   "source": [
    "torch.cuda.memory_summary(device=None, abbreviated=False)\n"
   ]
  },
  {
   "cell_type": "code",
   "execution_count": 42,
   "metadata": {
    "colab": {
     "base_uri": "https://localhost:8080/",
     "height": 874
    },
    "executionInfo": {
     "elapsed": 403741,
     "status": "ok",
     "timestamp": 1701410329276,
     "user": {
      "displayName": "Thanapoom Phatthanaphan",
      "userId": "06703220080806313983"
     },
     "user_tz": 300
    },
    "id": "pE-I0sNXy6jP",
    "outputId": "b3ce8a0b-8067-4fcf-ce8d-d8809eb4e487"
   },
   "outputs": [
    {
     "name": "stderr",
     "output_type": "stream",
     "text": [
      "c:\\Users\\ADMIN\\AppData\\Local\\Programs\\Python\\Python311\\Lib\\site-packages\\transformers\\optimization.py:429: FutureWarning: This implementation of AdamW is deprecated and will be removed in a future version. Use the PyTorch implementation torch.optim.AdamW instead, or set `no_deprecation_warning=True` to disable this warning\n",
      "  warnings.warn(\n"
     ]
    },
    {
     "name": "stdout",
     "output_type": "stream",
     "text": [
      "Epoch 1/3, Training Loss: 0.08399481551234865, Validation Accuracy: 0.9627507163323782\n",
      "Training Time for Epoch 1: 285.41 seconds\n",
      "Max GPU Memory Allocated: 17695.44 MB\n"
     ]
    },
    {
     "name": "stderr",
     "output_type": "stream",
     "text": [
      "c:\\Users\\ADMIN\\AppData\\Local\\Programs\\Python\\Python311\\Lib\\site-packages\\torch\\cuda\\memory.py:365: FutureWarning: torch.cuda.reset_max_memory_allocated now calls torch.cuda.reset_peak_memory_stats, which resets /all/ peak memory stats.\n",
      "  warnings.warn(\n"
     ]
    },
    {
     "name": "stdout",
     "output_type": "stream",
     "text": [
      "Epoch 2/3, Training Loss: 0.05291080900827761, Validation Accuracy: 0.9570200573065902\n",
      "Training Time for Epoch 2: 379.45 seconds\n",
      "Max GPU Memory Allocated: 17695.44 MB\n",
      "Epoch 3/3, Training Loss: 0.032033404388295654, Validation Accuracy: 0.9541547277936963\n",
      "Training Time for Epoch 3: 366.07 seconds\n",
      "Max GPU Memory Allocated: 17695.44 MB\n"
     ]
    }
   ],
   "source": [
    "# Move the model to the appropriate device (GPU if available, otherwise CPU)\n",
    "device = torch.device('cuda' if torch.cuda.is_available() else 'cpu')\n",
    "model.to(device)\n",
    "\n",
    "# Define the optimizer (AdamW) with a learning rate of 2e-5\n",
    "optimizer = AdamW(model.parameters(), lr=2e-5)\n",
    "\n",
    "# Lists to store values for plotting\n",
    "train_loss_values = []\n",
    "val_accuracy_values = []\n",
    "training_times = []\n",
    "memory_allocated_values = []\n",
    "\n",
    "# Initialize a PrettyTable\n",
    "table = PrettyTable()\n",
    "table.field_names = [\"Epoch\", \"Training Loss\", \"Validation Accuracy\", \"Training Time (s)\", \"Max GPU Memory Allocated (MB)\"]\n",
    "\n",
    "# Number of training epochs\n",
    "num_epochs = 3\n",
    "\n",
    "# Loop through each epoch\n",
    "for epoch in range(num_epochs):\n",
    "\n",
    "    # Record the start time\n",
    "    start_time = time.time()\n",
    "\n",
    "    # Set the model to training mode and initialize total loss for the epoch\n",
    "    model.train()\n",
    "    total_loss = 0.0\n",
    "\n",
    "    # Loop through the training data in batches\n",
    "    for batch in train_loader:\n",
    "\n",
    "        # Move input data to the appropriate device\n",
    "        input_ids, attention_mask, labels = batch\n",
    "        input_ids, attention_mask, labels = input_ids.to(device), attention_mask.to(device), labels.to(device)\n",
    "\n",
    "        # Zero the gradients to prevent accumulation from previous batches\n",
    "        optimizer.zero_grad()\n",
    "\n",
    "        # Forward pass: calculate model predictions and compute the loss\n",
    "        outputs = model(input_ids=input_ids, attention_mask=attention_mask, labels=labels)\n",
    "        loss = F.cross_entropy(outputs.logits, labels)\n",
    "        total_loss += loss.item()\n",
    "\n",
    "        # Backward pass: compute gradient of the loss with respect to model parameters\n",
    "        loss.backward()\n",
    "\n",
    "        # Optimization step: update model parameters using the optimizer\n",
    "        optimizer.step()\n",
    "\n",
    "    # Calculate average loss for the epoch\n",
    "    average_loss = total_loss / len(train_loader)\n",
    "\n",
    "    # Record the end time\n",
    "    end_time = time.time()\n",
    "\n",
    "    # Calculate training time\n",
    "    training_time = end_time - start_time\n",
    "\n",
    "    # Set the model to evaluation mode to evaluate the performance of each epoch\n",
    "    model.eval()\n",
    "\n",
    "    # Initialize total correct predictions and total samples for validation\n",
    "    total_correct = 0\n",
    "    total_samples = 0\n",
    "\n",
    "    # Disable gradient computation during validation\n",
    "    with torch.no_grad():\n",
    "\n",
    "        # Loop through the validation data in batches\n",
    "        for batch in val_loader:\n",
    "\n",
    "            # Move input data to the appropriate device\n",
    "            input_ids, attention_mask, labels = batch\n",
    "            input_ids, attention_mask, labels = input_ids.to(device), attention_mask.to(device), labels.to(device)\n",
    "\n",
    "            # Forward pass: calculate model predictions\n",
    "            outputs = model(input_ids, attention_mask=attention_mask)\n",
    "            logits = outputs.logits\n",
    "            predictions = torch.argmax(logits, dim=1)\n",
    "\n",
    "            # Update total correct predictions and total samples\n",
    "            total_correct += torch.sum(predictions == labels).item()\n",
    "            total_samples += labels.size(0)\n",
    "\n",
    "    # Calculate validation accuracy\n",
    "    accuracy = total_correct / total_samples\n",
    "\n",
    "    # Record the end time\n",
    "    end_time = time.time()\n",
    "\n",
    "    # Check GPU memory (MB)\n",
    "    max_memory_allocated = torch.cuda.max_memory_allocated() / 1024 ** 2\n",
    "\n",
    "    # Print result of the epoch\n",
    "    print(f'Epoch {epoch + 1}/{num_epochs}, Training Loss: {average_loss}, Validation Accuracy: {accuracy}')\n",
    "    print(f'Training Time for Epoch {epoch + 1}: {training_time:.2f} seconds')\n",
    "    print(f'Max GPU Memory Allocated: {max_memory_allocated:.2f} MB')\n",
    "\n",
    "    # Add values to the lists for plotting\n",
    "    train_loss_values.append(average_loss)\n",
    "    val_accuracy_values.append(accuracy)\n",
    "    training_times.append(training_time)\n",
    "    memory_allocated_values.append(max_memory_allocated)\n",
    "\n",
    "    # Add the results to the PrettyTable\n",
    "    table.add_row([epoch + 1, average_loss, accuracy, training_time, max_memory_allocated])\n",
    "\n",
    "    # Reser GPU memory statistics\n",
    "    torch.cuda.reset_max_memory_allocated()\n",
    "\n",
    "# Plotting the graphs\n",
    "epochs_range = range(1, num_epochs + 1)\n"
   ]
  },
  {
   "cell_type": "code",
   "execution_count": 43,
   "metadata": {},
   "outputs": [
    {
     "data": {
      "image/png": "[encoded data removed]",
      "text/plain": [
       "<Figure size 1200x500 with 2 Axes>"
      ]
     },
     "metadata": {},
     "output_type": "display_data"
    },
    {
     "name": "stdout",
     "output_type": "stream",
     "text": [
      "+-------+----------------------+---------------------+--------------------+-------------------------------+\n",
      "| Epoch |    Training Loss     | Validation Accuracy | Training Time (s)  | Max GPU Memory Allocated (MB) |\n",
      "+-------+----------------------+---------------------+--------------------+-------------------------------+\n",
      "|   1   | 0.08399481551234865  |  0.9627507163323782 | 285.41459250450134 |       17695.44287109375       |\n",
      "|   2   | 0.05291080900827761  |  0.9570200573065902 | 379.45015025138855 |       17695.44287109375       |\n",
      "|   3   | 0.032033404388295654 |  0.9541547277936963 | 366.0687005519867  |       17695.44287109375       |\n",
      "+-------+----------------------+---------------------+--------------------+-------------------------------+\n"
     ]
    }
   ],
   "source": [
    "# Set the size of the graph\n",
    "plt.figure(figsize=(12, 5))\n",
    "\n",
    "# Plot Training Loss\n",
    "plt.subplot(1, 2, 1)\n",
    "plt.plot(epochs_range, train_loss_values, label='Training Loss', marker='o')\n",
    "plt.xlabel('Epoch')\n",
    "plt.ylabel('Training Loss')\n",
    "plt.title('Training Loss Over Epochs')\n",
    "plt.legend()\n",
    "\n",
    "# Plot Validation Accuracy\n",
    "plt.subplot(1, 2, 2)\n",
    "plt.plot(epochs_range, val_accuracy_values, label='Validation Accuracy', marker='o', color='orange')\n",
    "plt.xlabel('Epoch')\n",
    "plt.ylabel('Validation Accuracy')\n",
    "plt.title('Validation Accuracy Over Epochs')\n",
    "plt.legend()\n",
    "\n",
    "plt.tight_layout()\n",
    "plt.show()\n",
    "\n",
    "# Print the table\n",
    "print(table)"
   ]
  },
  {
   "cell_type": "markdown",
   "metadata": {
    "id": "OYMh_x1U7rlr"
   },
   "source": [
    "## 7. Classification and Evaluation\n",
    "Evaluate the model performance to classify the reviews between positive and negative reviews on Test dataset."
   ]
  },
  {
   "cell_type": "code",
   "execution_count": 44,
   "metadata": {
    "colab": {
     "base_uri": "https://localhost:8080/",
     "height": 753
    },
    "executionInfo": {
     "elapsed": 3795,
     "status": "ok",
     "timestamp": 1701410333066,
     "user": {
      "displayName": "Thanapoom Phatthanaphan",
      "userId": "06703220080806313983"
     },
     "user_tz": 300
    },
    "id": "n02inld31qea",
    "outputId": "5424704f-38c0-46f4-c3f2-73370d27fc6f"
   },
   "outputs": [
    {
     "data": {
      "image/png": "[encoded data removed]",
      "text/plain": [
       "<Figure size 800x800 with 1 Axes>"
      ]
     },
     "metadata": {},
     "output_type": "display_data"
    },
    {
     "name": "stdout",
     "output_type": "stream",
     "text": [
      "ROC-AUC Score: 0.9852\n",
      "Accuracy: 0.9713\n"
     ]
    }
   ],
   "source": [
    "# Set the model to evaluation mode\n",
    "model.eval()\n",
    "\n",
    "# Lists to store true labels and predicted probabilities\n",
    "true_labels = []\n",
    "predicted_probs = []\n",
    "predicted_labels = []\n",
    "\n",
    "# Evaluate the Model on the Test Set\n",
    "with torch.no_grad():\n",
    "    for batch in test_loader:\n",
    "        input_ids, attention_mask, labels = batch\n",
    "        input_ids, attention_mask, labels = input_ids.to(device), attention_mask.to(device), labels.to(device)\n",
    "\n",
    "        # Forward pass\n",
    "        outputs = model(input_ids, attention_mask=attention_mask)\n",
    "        logits = outputs.logits\n",
    "        probabilities = torch.softmax(logits, dim=1)[:, 1]\n",
    "        predictions = torch.argmax(logits, dim=1)\n",
    "\n",
    "        # Collect true labels and predicted probabilities\n",
    "        true_labels.extend(labels.cpu().numpy())\n",
    "        predicted_probs.extend(probabilities.cpu().numpy())\n",
    "        predicted_labels.extend(predictions.cpu().numpy())\n",
    "\n",
    "# Calculate ROC curve\n",
    "fpr, tpr, thresholds = roc_curve(true_labels, predicted_probs)\n",
    "\n",
    "# Calculate ROC-AUC score\n",
    "roc_auc = roc_auc_score(true_labels, predicted_probs)\n",
    "\n",
    "# Calculate accuracy\n",
    "accuracy = accuracy_score(true_labels, predicted_labels)\n",
    "\n",
    "# Plot ROC curve\n",
    "plt.figure(figsize=(8, 8))\n",
    "plt.plot(fpr, tpr, color='darkorange', lw=2, label=f'ROC Curve (AUC = {roc_auc:.2f})')\n",
    "plt.plot([0, 1], [0, 1], color='navy', lw=2, linestyle='--')\n",
    "plt.xlim([0.0, 1.0])\n",
    "plt.ylim([0.0, 1.0])\n",
    "plt.xlabel('False Positive Rate')\n",
    "plt.ylabel('True Positive Rate')\n",
    "plt.title('Receiver Operating Characteristic (ROC) Curve')\n",
    "plt.legend(loc=\"lower right\")\n",
    "plt.show()\n",
    "\n",
    "# Print ROC-AUC Score and Accuracy\n",
    "print(f'ROC-AUC Score: {roc_auc:.4f}')\n",
    "print(f'Accuracy: {accuracy:.4f}')"
   ]
  },
  {
   "cell_type": "markdown",
   "metadata": {
    "id": "DrInRouY8i-_"
   },
   "source": [
    "**Manual evaluation**"
   ]
  },
  {
   "cell_type": "code",
   "execution_count": null,
   "metadata": {
    "colab": {
     "base_uri": "https://localhost:8080/"
    },
    "executionInfo": {
     "elapsed": 29,
     "status": "ok",
     "timestamp": 1701410333067,
     "user": {
      "displayName": "Thanapoom Phatthanaphan",
      "userId": "06703220080806313983"
     },
     "user_tz": 300
    },
    "id": "PV_eTLhw8lrw",
    "outputId": "df2f4cc0-0db4-4e2a-8624-36731c218e1e"
   },
   "outputs": [
    {
     "name": "stdout",
     "output_type": "stream",
     "text": [
      "Review: Impressed with the bank's online services, making transactions has never been easier.\n",
      "Predicted Sentiment: Positive\n",
      "True Sentiment: Positive\n",
      "\n",
      "Review: Customer support was unhelpful and frustrating; it took forever to resolve a simple issue.\n",
      "Predicted Sentiment: Negative\n",
      "True Sentiment: Negative\n",
      "\n",
      "Review: Received a great interest rate on my savings account, very satisfied with the banking experience.\n",
      "Predicted Sentiment: Positive\n",
      "True Sentiment: Positive\n",
      "\n",
      "Review: The mobile app is user-friendly and convenient for managing accounts on the go.\n",
      "Predicted Sentiment: Positive\n",
      "True Sentiment: Positive\n",
      "\n",
      "Review: Unexpected fees and hidden charges made my experience with this bank disappointing.\n",
      "Predicted Sentiment: Negative\n",
      "True Sentiment: Negative\n",
      "\n",
      "Review: Quick and efficient loan approval process, would recommend for financial assistance.\n",
      "Predicted Sentiment: Positive\n",
      "True Sentiment: Positive\n",
      "\n",
      "Review: The staff at the local branch were friendly and assisted me with professionalism.\n",
      "Predicted Sentiment: Positive\n",
      "True Sentiment: Positive\n",
      "\n",
      "Review: I've been a customer for years, and the bank has consistently met my financial needs.\n",
      "Predicted Sentiment: Positive\n",
      "True Sentiment: Positive\n",
      "\n",
      "Review: The credit card application process was straightforward, and I got approved quickly.\n",
      "Predicted Sentiment: Positive\n",
      "True Sentiment: Positive\n",
      "\n",
      "Review: Poor security measures; my account was compromised, and the recovery process was frustrating.\n",
      "Predicted Sentiment: Negative\n",
      "True Sentiment: Negative\n",
      "\n"
     ]
    }
   ],
   "source": [
    "# 10 unseen reviews for manual test\n",
    "unseen_reviews = [\"Impressed with the bank's online services, making transactions has never been easier.\",\n",
    "                  \"Customer support was unhelpful and frustrating; it took forever to resolve a simple issue.\",\n",
    "                  \"Received a great interest rate on my savings account, very satisfied with the banking experience.\",\n",
    "                  \"The mobile app is user-friendly and convenient for managing accounts on the go.\",\n",
    "                  \"Unexpected fees and hidden charges made my experience with this bank disappointing.\",\n",
    "                  \"Quick and efficient loan approval process, would recommend for financial assistance.\",\n",
    "                  \"The staff at the local branch were friendly and assisted me with professionalism.\",\n",
    "                  \"I've been a customer for years, and the bank has consistently met my financial needs.\",\n",
    "                  \"The credit card application process was straightforward, and I got approved quickly.\",\n",
    "                  \"Poor security measures; my account was compromised, and the recovery process was frustrating.\"]\n",
    "\n",
    "# Sentiment for 10 unseen reviews\n",
    "sentiment_unseen_reviews = ['Positive', 'Negative', 'Positive', 'Positive', 'Negative', 'Positive', 'Positive', 'Positive', 'Positive', 'Negative']\n",
    "\n",
    "# Clean the text\n",
    "cleaned_unseen_reviews = []\n",
    "\n",
    "# Tokenize and encode the unseen reviews\n",
    "unseen_encodings = tokenizer(unseen_reviews, padding=True, truncation=True, return_tensors='pt')\n",
    "\n",
    "# Make predictions\n",
    "model.eval()\n",
    "with torch.no_grad():\n",
    "    inputs = {key: unseen_encodings[key].to(model.device) for key in unseen_encodings}\n",
    "    outputs = model(**inputs)\n",
    "    logits = outputs.logits\n",
    "    predictions = torch.argmax(logits, dim=1)\n",
    "\n",
    "# Print the predicted sentiment for each review\n",
    "i = 0\n",
    "for review, prediction in zip(unseen_reviews, predictions.tolist()):\n",
    "    sentiment = \"Positive\" if prediction == 1 else \"Negative\"\n",
    "    print(f\"Review: {review}\\nPredicted Sentiment: {sentiment}\\nTrue Sentiment: {sentiment_unseen_reviews[i]}\\n\")\n",
    "    i += 1"
   ]
  }
 ],
 "metadata": {
  "accelerator": "GPU",
  "colab": {
   "gpuType": "V100",
   "machine_shape": "hm",
   "provenance": []
  },
  "kernelspec": {
   "display_name": "Python 3",
   "language": "python",
   "name": "python3"
  },
  "language_info": {
   "codemirror_mode": {
    "name": "ipython",
    "version": 3
   },
   "file_extension": ".py",
   "mimetype": "text/x-python",
   "name": "python",
   "nbconvert_exporter": "python",
   "pygments_lexer": "ipython3",
   "version": "3.11.9"
  }
 },
 "nbformat": 4,
 "nbformat_minor": 1
}
